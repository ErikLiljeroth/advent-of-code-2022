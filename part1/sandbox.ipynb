{
 "cells": [
  {
   "cell_type": "code",
   "execution_count": 121,
   "metadata": {},
   "outputs": [],
   "source": [
    "import numpy as np"
   ]
  },
  {
   "cell_type": "code",
   "execution_count": 122,
   "metadata": {},
   "outputs": [],
   "source": [
    "test_input = '''\n",
    "1000\n",
    "2000\n",
    "3000\n",
    "\n",
    "4000\n",
    "\n",
    "5000\n",
    "6000\n",
    "\n",
    "7000\n",
    "8000\n",
    "9000\n",
    "\n",
    "10000\n",
    "'''\n",
    "\n",
    "test_input2 = '''\n",
    "7000\n",
    "8000\n",
    "9000\n",
    "\n",
    "1000\n",
    "2000\n",
    "3000\n",
    "\n",
    "4000\n",
    "\n",
    "5000\n",
    "6000\n",
    "\n",
    "10000\n",
    "'''"
   ]
  },
  {
   "cell_type": "code",
   "execution_count": 123,
   "metadata": {},
   "outputs": [],
   "source": [
    "# read real input\n",
    "\n",
    "#open text file in read mode\n",
    "text_file = open(\"./input.txt\", \"r\")\n",
    "\n",
    "#read whole file to a string\n",
    "input = text_file.read()\n",
    "\n",
    "#close file\n",
    "text_file.close()"
   ]
  },
  {
   "cell_type": "code",
   "execution_count": 124,
   "metadata": {},
   "outputs": [],
   "source": [
    "def get_elf(input: str):\n",
    "    split_input = input.split('\\n\\n')\n",
    "\n",
    "    best_idx = 0\n",
    "    max_val = 0\n",
    "\n",
    "    for idx,group in enumerate(split_input):\n",
    "        numbers_list = [float(element) for element in group.split('\\n') if element != '']\n",
    "        #print(numbers_list)\n",
    "        local_max = sum(numbers_list)\n",
    "        #print(local_max)\n",
    "        if local_max > max_val:\n",
    "            max_val = local_max\n",
    "            best_idx = idx\n",
    "\n",
    "    print('best max', max_val)\n",
    "\n",
    "    return max_val\n",
    "\n"
   ]
  },
  {
   "cell_type": "code",
   "execution_count": 125,
   "metadata": {},
   "outputs": [],
   "source": [
    "def get_elf_part2(input: str):\n",
    "    split_input = input.split('\\n\\n')\n",
    "\n",
    "    best_idx = 0\n",
    "    max_val_1 = 0\n",
    "    max_val_2 = 0\n",
    "    max_val_3 = 0\n",
    "\n",
    "    output_vals = []\n",
    "\n",
    "    for idx,group in enumerate(split_input):\n",
    "        numbers_list = [float(element) for element in group.split('\\n') if element != '']\n",
    "        #print(numbers_list)\n",
    "        local_max = sum(numbers_list)\n",
    "        output_vals.append(local_max)\n",
    "        #print(local_max)\n",
    "        if local_max > max_val_1:\n",
    "            max_val_1 = local_max\n",
    "            best_idx = idx\n",
    "        elif local_max > max_val_2:\n",
    "            max_val_1 = local_max\n",
    "        elif local_max > max_val_3:\n",
    "            max_val_3 = local_max\n",
    "\n",
    "    output_vals.sort(reverse=True)\n",
    "\n",
    "    return sum([output_vals[0],output_vals[1],output_vals[2]])"
   ]
  },
  {
   "cell_type": "code",
   "execution_count": 126,
   "metadata": {},
   "outputs": [
    {
     "name": "stdout",
     "output_type": "stream",
     "text": [
      "best max 68802.0\n"
     ]
    },
    {
     "data": {
      "text/plain": [
       "68802.0"
      ]
     },
     "execution_count": 126,
     "metadata": {},
     "output_type": "execute_result"
    }
   ],
   "source": [
    "get_elf(input)"
   ]
  },
  {
   "cell_type": "code",
   "execution_count": 127,
   "metadata": {},
   "outputs": [
    {
     "data": {
      "text/plain": [
       "205370.0"
      ]
     },
     "execution_count": 127,
     "metadata": {},
     "output_type": "execute_result"
    }
   ],
   "source": [
    "get_elf_part2(input)"
   ]
  },
  {
   "cell_type": "markdown",
   "metadata": {},
   "source": [
    "# attempt #2 - more efficient"
   ]
  },
  {
   "cell_type": "code",
   "execution_count": 108,
   "metadata": {},
   "outputs": [],
   "source": [
    "# read real input\n",
    "\n",
    "#open text file in read mode\n",
    "text_file = open(\"./input.txt\", \"r\")\n",
    "\n",
    "#read whole file to a string\n",
    "input = text_file.readlines()\n",
    "\n",
    "#close file\n",
    "text_file.close()\n",
    "\n",
    "#open text file in read mode\n",
    "text_file = open(\"./input_test.txt\", \"r\")\n",
    "\n",
    "#read whole file to a string\n",
    "input_test = text_file.readlines()\n",
    "\n",
    "#close file\n",
    "text_file.close()"
   ]
  },
  {
   "cell_type": "code",
   "execution_count": 117,
   "metadata": {},
   "outputs": [],
   "source": [
    "def solve_part1(input):\n",
    "    elf_sums = []\n",
    "\n",
    "    single_elf_sum = 0\n",
    "    input_len = len(input)\n",
    "\n",
    "    for idx,row in enumerate(input):\n",
    "\n",
    "        if idx == input_len-1:\n",
    "            single_elf_sum += float(row) # always int?\n",
    "            elf_sums.append(single_elf_sum)\n",
    "\n",
    "        elif row != '\\n':\n",
    "            single_elf_sum += float(row) # always int?\n",
    "\n",
    "        else:\n",
    "            elf_sums.append(single_elf_sum)\n",
    "            single_elf_sum = 0\n",
    "\n",
    "    elf_sums.sort(reverse=True)\n",
    "\n",
    "    return {'part1_a': elf_sums[0], 'part1_b': sum(elf_sums[:3])}"
   ]
  },
  {
   "cell_type": "code",
   "execution_count": 119,
   "metadata": {},
   "outputs": [
    {
     "data": {
      "text/plain": [
       "{'part1_a': 68802.0, 'part1_b': 205370.0}"
      ]
     },
     "execution_count": 119,
     "metadata": {},
     "output_type": "execute_result"
    }
   ],
   "source": [
    "solve_part1(input)"
   ]
  }
 ],
 "metadata": {
  "kernelspec": {
   "display_name": "Python 3.8.8 ('base')",
   "language": "python",
   "name": "python3"
  },
  "language_info": {
   "codemirror_mode": {
    "name": "ipython",
    "version": 3
   },
   "file_extension": ".py",
   "mimetype": "text/x-python",
   "name": "python",
   "nbconvert_exporter": "python",
   "pygments_lexer": "ipython3",
   "version": "3.8.8"
  },
  "orig_nbformat": 4,
  "vscode": {
   "interpreter": {
    "hash": "8c4c8510ef8ebf92c71b12674dd4c6e46a22be7143d6d92cf0443214191cf3c1"
   }
  }
 },
 "nbformat": 4,
 "nbformat_minor": 2
}
