{
 "cells": [
  {
   "cell_type": "code",
   "execution_count": 1,
   "metadata": {},
   "outputs": [],
   "source": [
    "from typing import List, Tuple"
   ]
  },
  {
   "cell_type": "code",
   "execution_count": 72,
   "metadata": {},
   "outputs": [],
   "source": [
    "filename = 'input.txt'\n",
    "\n",
    "with open(filename, \"r\") as f:\n",
    "    input = f.readlines()"
   ]
  },
  {
   "cell_type": "code",
   "execution_count": 6,
   "metadata": {},
   "outputs": [
    {
     "data": {
      "text/plain": [
       "['noop\\n', 'addx 3\\n', 'addx -5']"
      ]
     },
     "execution_count": 6,
     "metadata": {},
     "output_type": "execute_result"
    }
   ],
   "source": [
    "input"
   ]
  },
  {
   "cell_type": "code",
   "execution_count": 23,
   "metadata": {},
   "outputs": [],
   "source": [
    "m = [['.'] * 4 for i in range(3)]"
   ]
  },
  {
   "cell_type": "code",
   "execution_count": 35,
   "metadata": {},
   "outputs": [
    {
     "name": "stdout",
     "output_type": "stream",
     "text": [
      "['.', '.', '.', '.']\n",
      "['.', '.', '#', '.']\n",
      "['.', '.', '.', '.']\n"
     ]
    }
   ],
   "source": [
    "for pixel_row in m:\n",
    "    print(pixel_row)"
   ]
  },
  {
   "cell_type": "code",
   "execution_count": 33,
   "metadata": {},
   "outputs": [],
   "source": [
    "m[1][2] = '#'"
   ]
  },
  {
   "cell_type": "code",
   "execution_count": 34,
   "metadata": {},
   "outputs": [
    {
     "data": {
      "text/plain": [
       "[['.', '.', '.', '.'], ['.', '.', '#', '.'], ['.', '.', '.', '.']]"
      ]
     },
     "execution_count": 34,
     "metadata": {},
     "output_type": "execute_result"
    }
   ],
   "source": [
    "m"
   ]
  },
  {
   "cell_type": "code",
   "execution_count": 31,
   "metadata": {},
   "outputs": [],
   "source": [
    "cycle = 66\n",
    "row = int(cycle/40)\n",
    "col = 66 % 40 - 1"
   ]
  },
  {
   "cell_type": "code",
   "execution_count": 32,
   "metadata": {},
   "outputs": [
    {
     "data": {
      "text/plain": [
       "25"
      ]
     },
     "execution_count": 32,
     "metadata": {},
     "output_type": "execute_result"
    }
   ],
   "source": [
    "col"
   ]
  },
  {
   "cell_type": "code",
   "execution_count": 75,
   "metadata": {},
   "outputs": [],
   "source": [
    "class CRT:\n",
    "\n",
    "    def __init__(self) -> None:\n",
    "        self.matrix = [['.'] * 40 for i in range(6)]\n",
    "\n",
    "    def draw_pixel(self, cycle:int, sprite_X:int) -> None:\n",
    "        crt_row = int((cycle-1)/40)\n",
    "        crt_col = (cycle-1) % 40\n",
    "        if abs(crt_col-sprite_X) <= 1:\n",
    "            self.matrix[crt_row][crt_col] = '#'\n",
    "        else:\n",
    "            pass\n",
    "        #print('cycle', cycle, 'X', sprite_X)\n",
    "\n",
    "    def print(self, to_terminal = True):\n",
    "        if to_terminal:\n",
    "            for pixel_row in self.matrix:\n",
    "                print(pixel_row)\n",
    "        return self.matrix\n",
    "\n",
    "\n",
    "class CPU:\n",
    "\n",
    "    def __init__(self, interesting_cycles: List[int]) -> None:\n",
    "        self.X = 1\n",
    "        self.cycle = 0\n",
    "        self.interesting_cycles = interesting_cycles\n",
    "        self.interesting_signal_strengths = []\n",
    "        self.CRT = CRT()\n",
    "\n",
    "    def _check_interesting_signal_strength(self):\n",
    "        if self.cycle in self.interesting_cycles:\n",
    "            self.interesting_signal_strengths.append(self.X * self.cycle)\n",
    "\n",
    "    def noop(self) -> None:\n",
    "        self.cycle += 1\n",
    "        self._check_interesting_signal_strength()\n",
    "        self.CRT.draw_pixel(cycle=self.cycle, sprite_X=self.X)\n",
    "\n",
    "    def addx(self, val: int) -> None:\n",
    "        self.cycle += 1\n",
    "        self._check_interesting_signal_strength()\n",
    "        self.CRT.draw_pixel(cycle=self.cycle, sprite_X=self.X)\n",
    "        self.cycle += 1\n",
    "        self._check_interesting_signal_strength()\n",
    "        self.CRT.draw_pixel(cycle=self.cycle, sprite_X=self.X)\n",
    "        self.X += val\n",
    "\n",
    "    def check_experiment_done(self) -> int:\n",
    "        if len(self.interesting_signal_strengths) == len(self.interesting_cycles):\n",
    "            return sum(self.interesting_signal_strengths)\n",
    "        else:\n",
    "            return None"
   ]
  },
  {
   "cell_type": "code",
   "execution_count": 76,
   "metadata": {},
   "outputs": [
    {
     "name": "stdout",
     "output_type": "stream",
     "text": [
      "14860\n"
     ]
    }
   ],
   "source": [
    "interesting_cycles = [20, 60, 100, 140, 180, 220]\n",
    "cpu = CPU(interesting_cycles)\n",
    "\n",
    "\n",
    "for line in input:\n",
    "    inst, *val = line.strip().split()\n",
    "    val = int(val[0]) if val else None\n",
    "    if inst == 'addx':\n",
    "        cpu.addx(val)\n",
    "    elif inst == 'noop':\n",
    "        cpu.noop()\n",
    "    else:\n",
    "        print(f'instruction {inst} not recognized')\n",
    "    status = cpu.check_experiment_done()\n",
    "    if status != None:\n",
    "        print(status)\n",
    "        break"
   ]
  },
  {
   "cell_type": "code",
   "execution_count": 73,
   "metadata": {},
   "outputs": [
    {
     "name": "stdout",
     "output_type": "stream",
     "text": [
      "cycle 1 X 1\n",
      "cycle 2 X 1\n",
      "cycle 3 X 1\n",
      "cycle 4 X 8\n",
      "cycle 5 X 8\n",
      "cycle 6 X 7\n",
      "cycle 7 X 7\n",
      "cycle 8 X 6\n",
      "cycle 9 X 6\n",
      "cycle 10 X 11\n",
      "cycle 11 X 11\n",
      "cycle 12 X 11\n",
      "cycle 13 X 11\n",
      "cycle 14 X 12\n",
      "cycle 15 X 12\n",
      "cycle 16 X 15\n",
      "cycle 17 X 15\n",
      "cycle 18 X 17\n",
      "cycle 19 X 17\n",
      "cycle 20 X 17\n",
      "cycle 21 X 19\n",
      "cycle 22 X 19\n",
      "cycle 23 X 24\n",
      "cycle 24 X 24\n",
      "cycle 25 X 26\n",
      "cycle 26 X 26\n",
      "cycle 27 X 36\n",
      "cycle 28 X 36\n",
      "cycle 29 X 27\n",
      "cycle 30 X 27\n",
      "cycle 31 X 31\n",
      "cycle 32 X 31\n",
      "cycle 33 X 31\n",
      "cycle 34 X 31\n",
      "cycle 35 X 31\n",
      "cycle 36 X 34\n",
      "cycle 37 X 34\n",
      "cycle 38 X 39\n",
      "cycle 39 X 39\n",
      "cycle 40 X -1\n",
      "cycle 41 X -1\n",
      "cycle 42 X 25\n",
      "cycle 43 X 25\n",
      "cycle 44 X 2\n",
      "cycle 45 X 2\n",
      "cycle 46 X 4\n",
      "cycle 47 X 4\n",
      "cycle 48 X 9\n",
      "cycle 49 X 9\n",
      "cycle 50 X 35\n",
      "cycle 51 X 35\n",
      "cycle 52 X 0\n",
      "cycle 53 X 0\n",
      "cycle 54 X 12\n",
      "cycle 55 X 12\n",
      "cycle 56 X 14\n",
      "cycle 57 X 14\n",
      "cycle 58 X 31\n",
      "cycle 59 X 31\n",
      "cycle 60 X 21\n",
      "cycle 61 X 21\n",
      "cycle 62 X 24\n",
      "cycle 63 X 24\n",
      "cycle 64 X 24\n",
      "cycle 65 X 26\n",
      "cycle 66 X 26\n",
      "cycle 67 X 29\n",
      "cycle 68 X 29\n",
      "cycle 69 X 29\n",
      "cycle 70 X 31\n",
      "cycle 71 X 31\n",
      "cycle 72 X 34\n",
      "cycle 73 X 34\n",
      "cycle 74 X 34\n",
      "cycle 75 X 36\n",
      "cycle 76 X 36\n",
      "cycle 77 X 38\n",
      "cycle 78 X 38\n",
      "cycle 79 X -1\n",
      "cycle 80 X -1\n",
      "cycle 81 X -1\n",
      "cycle 82 X 14\n",
      "cycle 83 X 14\n",
      "cycle 84 X 2\n",
      "cycle 85 X 2\n",
      "cycle 86 X 4\n",
      "cycle 87 X 4\n",
      "cycle 88 X 14\n",
      "cycle 89 X 14\n",
      "cycle 90 X 14\n",
      "cycle 91 X 13\n",
      "cycle 92 X 13\n",
      "cycle 93 X 11\n",
      "cycle 94 X 11\n",
      "cycle 95 X 11\n",
      "cycle 96 X 16\n",
      "cycle 97 X 16\n",
      "cycle 98 X 16\n",
      "cycle 99 X 21\n",
      "cycle 100 X 21\n",
      "cycle 101 X 21\n",
      "cycle 102 X 21\n",
      "cycle 103 X 22\n",
      "cycle 104 X 22\n",
      "cycle 105 X 26\n",
      "cycle 106 X 26\n",
      "cycle 107 X 1\n",
      "cycle 108 X 1\n",
      "cycle 109 X 27\n",
      "cycle 110 X 27\n",
      "cycle 111 X 29\n",
      "cycle 112 X 29\n",
      "cycle 113 X 34\n",
      "cycle 114 X 34\n",
      "cycle 115 X 36\n",
      "cycle 116 X 36\n",
      "cycle 117 X 36\n",
      "cycle 118 X 33\n",
      "cycle 119 X 33\n",
      "cycle 120 X 1\n",
      "cycle 121 X 1\n",
      "cycle 122 X 2\n",
      "cycle 123 X 2\n",
      "cycle 124 X 6\n",
      "cycle 125 X 6\n",
      "cycle 126 X 4\n",
      "cycle 127 X 4\n",
      "cycle 128 X 7\n",
      "cycle 129 X 7\n",
      "cycle 130 X 7\n",
      "cycle 131 X 7\n",
      "cycle 132 X 10\n",
      "cycle 133 X 10\n",
      "cycle 134 X 10\n",
      "cycle 135 X 16\n",
      "cycle 136 X 16\n",
      "cycle 137 X -1\n",
      "cycle 138 X -1\n",
      "cycle 139 X 26\n",
      "cycle 140 X 26\n",
      "cycle 141 X 19\n",
      "cycle 142 X 19\n",
      "cycle 143 X 24\n",
      "cycle 144 X 24\n",
      "cycle 145 X 26\n",
      "cycle 146 X 26\n",
      "cycle 147 X 29\n",
      "cycle 148 X 29\n",
      "cycle 149 X 27\n",
      "cycle 150 X 27\n",
      "cycle 151 X 31\n",
      "cycle 152 X 31\n",
      "cycle 153 X 31\n",
      "cycle 154 X 31\n",
      "cycle 155 X 36\n",
      "cycle 156 X 36\n",
      "cycle 157 X 38\n",
      "cycle 158 X 38\n",
      "cycle 159 X -1\n",
      "cycle 160 X -1\n",
      "cycle 161 X -1\n",
      "cycle 162 X -1\n",
      "cycle 163 X 1\n",
      "cycle 164 X 1\n",
      "cycle 165 X 6\n",
      "cycle 166 X 6\n",
      "cycle 167 X 9\n",
      "cycle 168 X 9\n",
      "cycle 169 X 7\n",
      "cycle 170 X 7\n",
      "cycle 171 X 9\n",
      "cycle 172 X 9\n",
      "cycle 173 X 20\n",
      "cycle 174 X 20\n",
      "cycle 175 X 16\n",
      "cycle 176 X 16\n",
      "cycle 177 X 11\n",
      "cycle 178 X 11\n",
      "cycle 179 X 11\n",
      "cycle 180 X 21\n",
      "cycle 181 X 21\n",
      "cycle 182 X 3\n",
      "cycle 183 X 3\n",
      "cycle 184 X 22\n",
      "cycle 185 X 22\n",
      "cycle 186 X 24\n",
      "cycle 187 X 24\n",
      "cycle 188 X 29\n",
      "cycle 189 X 29\n",
      "cycle 190 X 31\n",
      "cycle 191 X 31\n",
      "cycle 192 X 33\n",
      "cycle 193 X 33\n",
      "cycle 194 X 36\n",
      "cycle 195 X 36\n",
      "cycle 196 X 34\n",
      "cycle 197 X 34\n",
      "cycle 198 X 36\n",
      "cycle 199 X 36\n",
      "cycle 200 X -1\n",
      "cycle 201 X -1\n",
      "cycle 202 X -1\n",
      "cycle 203 X 4\n",
      "cycle 204 X 4\n",
      "cycle 205 X 8\n",
      "cycle 206 X 8\n",
      "cycle 207 X 7\n",
      "cycle 208 X 7\n",
      "cycle 209 X 7\n",
      "cycle 210 X 11\n",
      "cycle 211 X 11\n",
      "cycle 212 X 11\n",
      "cycle 213 X 11\n",
      "cycle 214 X 12\n",
      "cycle 215 X 12\n",
      "cycle 216 X 16\n",
      "cycle 217 X 16\n",
      "cycle 218 X 16\n",
      "cycle 219 X 17\n",
      "cycle 220 X 17\n",
      "cycle 221 X 19\n",
      "cycle 222 X 19\n",
      "cycle 223 X 19\n",
      "cycle 224 X 22\n",
      "cycle 225 X 22\n",
      "cycle 226 X 27\n",
      "cycle 227 X 27\n",
      "cycle 228 X 27\n",
      "cycle 229 X 24\n",
      "cycle 230 X 24\n",
      "cycle 231 X 29\n",
      "cycle 232 X 29\n",
      "cycle 233 X 34\n",
      "cycle 234 X 34\n",
      "cycle 235 X 36\n",
      "cycle 236 X 36\n",
      "cycle 237 X 39\n",
      "cycle 238 X 39\n",
      "cycle 239 X 39\n",
      "cycle 240 X 7\n"
     ]
    }
   ],
   "source": [
    "# Part II\n",
    "\n",
    "cpu = CPU(interesting_cycles=[20, 60, 100, 140, 160, 220])\n",
    "\n",
    "for line in input:\n",
    "    inst, *val = line.strip().split()\n",
    "    val = int(val[0]) if val else None\n",
    "    if inst == 'addx':\n",
    "        cpu.addx(val)\n",
    "    elif inst == 'noop':\n",
    "        cpu.noop()\n",
    "    else:\n",
    "        print(f'instruction {inst} not recognized')\n",
    "\n",
    "    if cpu.cycle > 240:\n",
    "        break\n",
    "\n",
    "screen = cpu.CRT.print(to_terminal = False)\n",
    "\n",
    "with open('output.txt', 'w+') as f:\n",
    "    for row in screen:\n",
    "        for char in row:\n",
    "            f.write(char)\n",
    "        f.write('\\n')"
   ]
  },
  {
   "cell_type": "code",
   "execution_count": null,
   "metadata": {},
   "outputs": [],
   "source": []
  }
 ],
 "metadata": {
  "kernelspec": {
   "display_name": "Python 3.8.10 64-bit",
   "language": "python",
   "name": "python3"
  },
  "language_info": {
   "codemirror_mode": {
    "name": "ipython",
    "version": 3
   },
   "file_extension": ".py",
   "mimetype": "text/x-python",
   "name": "python",
   "nbconvert_exporter": "python",
   "pygments_lexer": "ipython3",
   "version": "3.8.10"
  },
  "orig_nbformat": 4,
  "vscode": {
   "interpreter": {
    "hash": "916dbcbb3f70747c44a77c7bcd40155683ae19c65e1c03b4aa3499c5328201f1"
   }
  }
 },
 "nbformat": 4,
 "nbformat_minor": 2
}
