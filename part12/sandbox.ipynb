{
 "cells": [
  {
   "cell_type": "code",
   "execution_count": 1,
   "metadata": {},
   "outputs": [],
   "source": [
    "from typing import List"
   ]
  },
  {
   "cell_type": "code",
   "execution_count": 2,
   "metadata": {},
   "outputs": [],
   "source": [
    "filename = 'input_test.txt'\n",
    "with open(filename,'r') as f:\n",
    "    input = f.readlines()"
   ]
  },
  {
   "cell_type": "code",
   "execution_count": 3,
   "metadata": {},
   "outputs": [
    {
     "data": {
      "text/plain": [
       "['Sabqponm\\n', 'abcryxxl\\n', 'accszExk\\n', 'acctuvwj\\n', 'abdefghi']"
      ]
     },
     "execution_count": 3,
     "metadata": {},
     "output_type": "execute_result"
    }
   ],
   "source": [
    "input"
   ]
  },
  {
   "cell_type": "code",
   "execution_count": 5,
   "metadata": {},
   "outputs": [],
   "source": [
    "matrix = []\n",
    "for line in input:\n",
    "    matrix.append(line.strip())\n",
    "\n",
    "values = [[0 for _ in range(len(matrix[0]))] for _ in range(len(matrix))]\n",
    "for row in range(len(matrix)):\n",
    "    for col in range(len(matrix[row])):\n",
    "        if matrix[row][col] == 'S':\n",
    "            values[row][col] = 1\n",
    "        elif matrix[row][col] == 'E':\n",
    "            values[row][col] = ord('z')-ord('a') + 1\n",
    "        else:\n",
    "            values[row][col] = ord(matrix[row][col]) - ord('a') + 1"
   ]
  },
  {
   "cell_type": "code",
   "execution_count": 32,
   "metadata": {},
   "outputs": [],
   "source": [
    "class HeightMap():\n",
    "\n",
    "    def __init__(self, filename):\n",
    "        with open(filename,'r') as f:\n",
    "            input = f.readlines()\n",
    "        self.matrix = []\n",
    "        for idx,line in enumerate(input):\n",
    "            stripped_line = line.strip()\n",
    "            self.matrix.append(stripped_line)\n",
    "            if 'S' in stripped_line:\n",
    "                self.start_pos = (idx, stripped_line.index('S'))\n",
    "            if 'E' in stripped_line:\n",
    "                self.end_pos = (idx, stripped_line.index('E'))\n",
    "\n",
    "        self.height_map = [[0 for _ in range(len(self.matrix[0]))] for _ in range(len(self.matrix))]\n",
    "        self.possible_start_pos = set()\n",
    "        for row in range(len(self.matrix)):\n",
    "            for col in range(len(self.matrix[row])):\n",
    "                if self.matrix[row][col] == 'S':\n",
    "                    self.height_map[row][col] = 1\n",
    "                elif self.matrix[row][col] == 'E':\n",
    "                    self.height_map[row][col] = ord('z')-ord('a') + 1\n",
    "                else:\n",
    "                    self.height_map[row][col] = ord(self.matrix[row][col]) - ord('a') + 1\n",
    "                if self.height_map[row][col] == 1:\n",
    "                    self.possible_start_pos.add((row,col))\n",
    "\n",
    "    def get_val_at_pos(self, pos) -> int:\n",
    "        row = pos[0]\n",
    "        col = pos[1]\n",
    "        return self.height_map[row][col]\n",
    "\n",
    "    def is_valid(self, pos):\n",
    "        nbr_rows = len(self.height_map)\n",
    "        nbr_cols = len(self.height_map[0])\n",
    "        return pos[0] >= 0 and pos[0] < nbr_rows and pos[1] >= 0 and pos[1] < nbr_cols"
   ]
  },
  {
   "cell_type": "code",
   "execution_count": 39,
   "metadata": {},
   "outputs": [],
   "source": [
    "def bfs(height_map, start_pos, end_pos):\n",
    "    alts = [(1, 0), (-1, 0), (0, 1), (0, -1)]\n",
    "    que = [[start_pos]]\n",
    "    seen = set(start_pos)\n",
    "    cnt = 0\n",
    "\n",
    "    while que:\n",
    "        cur_path = que.pop(0)\n",
    "        cur_pos = cur_path[-1]\n",
    "        cur_val = height_map.get_val_at_pos(cur_pos)\n",
    "        if cur_val == 26 and cur_pos == end_pos:\n",
    "            return cur_path\n",
    "        for alt in alts:\n",
    "            new_pos = (cur_pos[0] + alt[0], cur_pos[1] + alt[1])\n",
    "            if height_map.is_valid(new_pos) and new_pos not in seen and height_map.get_val_at_pos(new_pos) <= (cur_val + 1):\n",
    "                que.append(cur_path + [new_pos])\n",
    "                seen.add(new_pos)\n",
    "        cnt += 1\n",
    "    return None"
   ]
  },
  {
   "cell_type": "code",
   "execution_count": 25,
   "metadata": {},
   "outputs": [
    {
     "name": "stdout",
     "output_type": "stream",
     "text": [
      "437\n"
     ]
    }
   ],
   "source": [
    "height_map = HeightMap('input.txt')\n",
    "p = bfs(height_map, height_map.start_pos, height_map.end_pos)\n",
    "# Remove one from length of path, since first pos does not count\n",
    "print(len(p)-1)"
   ]
  },
  {
   "cell_type": "code",
   "execution_count": 41,
   "metadata": {},
   "outputs": [
    {
     "name": "stdout",
     "output_type": "stream",
     "text": [
      "Answer Part II: 430\n"
     ]
    }
   ],
   "source": [
    "# Part II\n",
    "height_map = HeightMap('input.txt')\n",
    "path_lenghts = []\n",
    "for pos in height_map.possible_start_pos:\n",
    "    try_path = bfs(height_map, pos, height_map.end_pos)\n",
    "    if try_path is not None:\n",
    "        path_lenghts.append(len(try_path)-1)\n",
    "print('Answer Part II:', min(path_lenghts))"
   ]
  },
  {
   "cell_type": "code",
   "execution_count": null,
   "metadata": {},
   "outputs": [],
   "source": []
  }
 ],
 "metadata": {
  "kernelspec": {
   "display_name": "Python 3.8.8 ('base')",
   "language": "python",
   "name": "python3"
  },
  "language_info": {
   "codemirror_mode": {
    "name": "ipython",
    "version": 3
   },
   "file_extension": ".py",
   "mimetype": "text/x-python",
   "name": "python",
   "nbconvert_exporter": "python",
   "pygments_lexer": "ipython3",
   "version": "3.8.8"
  },
  "orig_nbformat": 4,
  "vscode": {
   "interpreter": {
    "hash": "8c4c8510ef8ebf92c71b12674dd4c6e46a22be7143d6d92cf0443214191cf3c1"
   }
  }
 },
 "nbformat": 4,
 "nbformat_minor": 2
}
