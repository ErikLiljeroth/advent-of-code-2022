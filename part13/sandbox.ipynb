{
 "cells": [
  {
   "cell_type": "code",
   "execution_count": 89,
   "metadata": {},
   "outputs": [],
   "source": [
    "from typing import List"
   ]
  },
  {
   "cell_type": "code",
   "execution_count": 104,
   "metadata": {},
   "outputs": [
    {
     "name": "stdout",
     "output_type": "stream",
     "text": [
      "hi\n"
     ]
    }
   ],
   "source": [
    "filename = 'input.txt'\n",
    "with open(filename, 'r') as f:\n",
    "    input = f.readlines()\n",
    "\n",
    "packets = []\n",
    "packet = []\n",
    "\n",
    "for idx,line in enumerate(input):\n",
    "    if idx == len(input)-1:\n",
    "        print('hi')\n",
    "        packet.append(eval(line.strip()))\n",
    "        packets.append(packet)\n",
    "    elif line != '\\n':\n",
    "        packet.append(eval(line.strip()))\n",
    "    else:\n",
    "        packets.append(packet)\n",
    "        packet = []"
   ]
  },
  {
   "cell_type": "code",
   "execution_count": 105,
   "metadata": {},
   "outputs": [],
   "source": [
    "def compare_int(left:int, right:int) -> int:\n",
    "    if left < right:\n",
    "        return 1\n",
    "    elif left > right:\n",
    "        return -1\n",
    "    else:\n",
    "        return 0\n",
    "\n",
    "def compare_v2(left, right):\n",
    "    if isinstance(left, int):\n",
    "        if isinstance(right, int):\n",
    "            return compare_int(left, right)\n",
    "        else:\n",
    "            return compare_v2([left], right)#comma after?\n",
    "    if isinstance(right, int):\n",
    "        return compare_v2(left, [right])\n",
    "    for idx in range(min(len(left), len(right))):\n",
    "        result = compare_v2(left[idx], right[idx])\n",
    "        if result in [-1,1]:\n",
    "            return result\n",
    "    if len(left) < len(right):\n",
    "        return 1\n",
    "    if len(right) < len(left):\n",
    "        return -1\n",
    "    return 0"
   ]
  },
  {
   "cell_type": "code",
   "execution_count": 106,
   "metadata": {},
   "outputs": [
    {
     "name": "stdout",
     "output_type": "stream",
     "text": [
      "4821\n"
     ]
    }
   ],
   "source": [
    "# Part I\n",
    "sum = 0\n",
    "for idx,pack in enumerate(packets):\n",
    "    if compare_v2(pack[0], pack[1]) == 1:\n",
    "        sum += idx + 1\n",
    "    else:\n",
    "        pass\n",
    "\n",
    "print(sum)"
   ]
  },
  {
   "cell_type": "code",
   "execution_count": 107,
   "metadata": {},
   "outputs": [],
   "source": [
    "from functools import cmp_to_key\n",
    "packets_not_grouped = [l for packet in packets for l in packet]\n",
    "\n",
    "packets_not_grouped.append([[2]])\n",
    "packets_not_grouped.append([[6]])\n",
    "packets_sorted = sorted(packets_not_grouped, key=cmp_to_key(compare_v2), reverse=True)"
   ]
  },
  {
   "cell_type": "code",
   "execution_count": 108,
   "metadata": {},
   "outputs": [
    {
     "name": "stdout",
     "output_type": "stream",
     "text": [
      "21890\n"
     ]
    }
   ],
   "source": [
    "relevant_idx = []\n",
    "\n",
    "for idx,pack in enumerate(packets_sorted):\n",
    "    if ascii(pack) == '[[2]]':\n",
    "        relevant_idx.append(idx + 1)\n",
    "    elif ascii(pack) == '[[6]]':\n",
    "        relevant_idx.append(idx + 1)\n",
    "    else:\n",
    "        pass\n",
    "\n",
    "print(relevant_idx[0]*relevant_idx[1])"
   ]
  },
  {
   "cell_type": "code",
   "execution_count": null,
   "metadata": {},
   "outputs": [],
   "source": []
  }
 ],
 "metadata": {
  "kernelspec": {
   "display_name": "Python 3.8.10 64-bit",
   "language": "python",
   "name": "python3"
  },
  "language_info": {
   "codemirror_mode": {
    "name": "ipython",
    "version": 3
   },
   "file_extension": ".py",
   "mimetype": "text/x-python",
   "name": "python",
   "nbconvert_exporter": "python",
   "pygments_lexer": "ipython3",
   "version": "3.8.10"
  },
  "orig_nbformat": 4,
  "vscode": {
   "interpreter": {
    "hash": "916dbcbb3f70747c44a77c7bcd40155683ae19c65e1c03b4aa3499c5328201f1"
   }
  }
 },
 "nbformat": 4,
 "nbformat_minor": 2
}
