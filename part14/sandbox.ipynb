{
 "cells": [
  {
   "cell_type": "code",
   "execution_count": 1,
   "metadata": {},
   "outputs": [],
   "source": [
    "from typing import List, Tuple"
   ]
  },
  {
   "cell_type": "code",
   "execution_count": 2,
   "metadata": {},
   "outputs": [],
   "source": [
    "filename = 'input.txt'\n",
    "with open(filename, 'r') as f:\n",
    "    input_not_parsed = f.readlines()\n",
    "input = []\n",
    "for line in input_not_parsed:\n",
    "    parsed_line = [eval(s) for s in line.strip().split(' -> ')]\n",
    "    parsed_line = [(p[1], p[0]) for p in parsed_line]\n",
    "    input.append(parsed_line)\n"
   ]
  },
  {
   "cell_type": "code",
   "execution_count": 3,
   "metadata": {},
   "outputs": [],
   "source": [
    "class Map:\n",
    "\n",
    "    def _coord_between_points(self, p_a, p_b):\n",
    "        if p_a[0] == p_b[0]:\n",
    "            interim_points = [(p_a[0],p + min(p_b[1], p_a[1])) for p in range(abs(p_b[1]-p_a[1]) + 1)]\n",
    "        elif p_a[1] == p_b[1]:\n",
    "            interim_points = [(p + min(p_b[0], p_a[0]), p_b[1]) for p in range(abs(p_b[0]-p_a[0]) + 1)]\n",
    "        else:\n",
    "            print('cannot create diagonal path')\n",
    "            return None\n",
    "        return interim_points\n",
    "\n",
    "    def _draw_rocks(self, points):\n",
    "        for p in points:\n",
    "            self.matrix[p[0]][p[1]-min(self.y_set)] = '#'\n",
    "\n",
    "    def __init__(self, input, sand_pouring_pos: tuple, part = 'a') -> None:\n",
    "        self.x_set = set()\n",
    "        self.y_set = set()\n",
    "        self.buffer = 0 # extra map outside paths\n",
    "        self.sand_pouring_pos = sand_pouring_pos\n",
    "        self.sand_counter = 0\n",
    "        # build map based on input\n",
    "        for path in input:\n",
    "            for point in path:\n",
    "                self.x_set.add(point[0])\n",
    "                self.y_set.add(point[1])\n",
    "        if part == 'a':\n",
    "            self.matrix = [['.'] * (max(self.y_set) - min(self.y_set) + 1) for _ in range(max(self.x_set) + 1)]\n",
    "        else:\n",
    "            # y set - increase map\n",
    "            self.y_set.update(list(range(min(self.y_set)-400, min(self.y_set)+1)))\n",
    "            self.y_set.update(list(range(max(self.y_set)-1, max(self.y_set)+400)))\n",
    "            #x set add bottom\n",
    "            self.x_set.add(max(self.x_set)+1)\n",
    "            self.x_set.add(max(self.x_set)+1)\n",
    "\n",
    "            self.matrix = [['.'] * (max(self.y_set) - min(self.y_set) + 1) for _ in range(max(self.x_set) + 1)]\n",
    "            # build floor\n",
    "            for i in range(len(self.matrix[0])):\n",
    "                self.matrix[-1][i] = '#'\n",
    "\n",
    "        # Draw rock paths\n",
    "        for line in input:\n",
    "            for idx,point in enumerate(line):\n",
    "                if idx == 0:\n",
    "                    continue\n",
    "                rock_points = self._coord_between_points(line[idx-1], line[idx])\n",
    "                #print(rock_points)\n",
    "                self._draw_rocks(rock_points)\n",
    "\n",
    "        # Draw sand pouing pos\n",
    "        self.matrix[self.sand_pouring_pos[0]][self.sand_pouring_pos[1] - min(self.y_set)] = '+'\n",
    "\n",
    "    def print(self):\n",
    "        for x_row in self.matrix:\n",
    "            for char in x_row:\n",
    "                print(char,end='')\n",
    "            print()\n",
    "\n",
    "    def add_and_move_sand(self, init_pos) -> bool:\n",
    "        # return True if sand stopped, ow False if sand goes outisde map\n",
    "        cur_pos = list(init_pos)\n",
    "        for i in range(max(self.x_set)):\n",
    "            below_row = self.matrix[cur_pos[0] + 1][cur_pos[1]-min(self.y_set)-1:cur_pos[1]-min(self.y_set)+2]\n",
    "            if not below_row:\n",
    "                return False\n",
    "            elif below_row[1] not in ['#', 'o']:\n",
    "                cur_pos[0] += 1\n",
    "            elif below_row[0] not in ['#', 'o']:\n",
    "                cur_pos[0] += 1\n",
    "                cur_pos[1] -= 1\n",
    "            elif below_row[2] not in ['#', 'o']:\n",
    "                cur_pos[0] += 1\n",
    "                cur_pos[1] += 1\n",
    "            else:\n",
    "                if self.matrix[cur_pos[0]][cur_pos[1] - min(self.y_set)] != 'o':\n",
    "                    self.sand_counter += 1\n",
    "                    self.matrix[cur_pos[0]][cur_pos[1] - min(self.y_set)] = 'o'\n",
    "                    return True\n",
    "                return False\n",
    "        return False\n"
   ]
  },
  {
   "cell_type": "code",
   "execution_count": 4,
   "metadata": {},
   "outputs": [],
   "source": [
    "map = Map(input, sand_pouring_pos=(0,500), part='b')"
   ]
  },
  {
   "cell_type": "code",
   "execution_count": 6,
   "metadata": {},
   "outputs": [
    {
     "name": "stdout",
     "output_type": "stream",
     "text": [
      "0\n",
      "10000\n",
      "20000\n",
      "30000\n"
     ]
    }
   ],
   "source": [
    "flag = True\n",
    "cnt = 0\n",
    "while flag:\n",
    "    flag = map.add_and_move_sand((0,500))\n",
    "    if cnt % 10000 == 0:\n",
    "        print(cnt)\n",
    "    cnt += 1\n"
   ]
  },
  {
   "cell_type": "code",
   "execution_count": 7,
   "metadata": {},
   "outputs": [
    {
     "data": {
      "text/plain": [
       "31722"
      ]
     },
     "execution_count": 7,
     "metadata": {},
     "output_type": "execute_result"
    }
   ],
   "source": [
    "map.sand_counter"
   ]
  },
  {
   "cell_type": "code",
   "execution_count": 8,
   "metadata": {},
   "outputs": [
    {
     "name": "stdout",
     "output_type": "stream",
     "text": [
      "31722\n"
     ]
    }
   ],
   "source": [
    "cnt = 0\n",
    "for i in range(len(map.matrix)):\n",
    "    for k in range(len(map.matrix[0])):\n",
    "        if map.matrix[i][k] == 'o':\n",
    "            cnt +=1\n",
    "\n",
    "print(cnt)"
   ]
  }
 ],
 "metadata": {
  "kernelspec": {
   "display_name": "Python 3.8.10 64-bit",
   "language": "python",
   "name": "python3"
  },
  "language_info": {
   "codemirror_mode": {
    "name": "ipython",
    "version": 3
   },
   "file_extension": ".py",
   "mimetype": "text/x-python",
   "name": "python",
   "nbconvert_exporter": "python",
   "pygments_lexer": "ipython3",
   "version": "3.8.10"
  },
  "orig_nbformat": 4,
  "vscode": {
   "interpreter": {
    "hash": "916dbcbb3f70747c44a77c7bcd40155683ae19c65e1c03b4aa3499c5328201f1"
   }
  }
 },
 "nbformat": 4,
 "nbformat_minor": 2
}
