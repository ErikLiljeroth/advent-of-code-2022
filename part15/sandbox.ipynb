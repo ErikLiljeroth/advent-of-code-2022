{
 "cells": [
  {
   "cell_type": "code",
   "execution_count": 15,
   "metadata": {},
   "outputs": [],
   "source": [
    "def manhattan_distance(point1, point2):\n",
    "    return abs(point1[0] - point2[0]) + abs(point1[1] - point2[1])\n",
    "\n",
    "def point_within_sensor_range(point, sensors):\n",
    "    for sx, sy, d in sensors:\n",
    "        if manhattan_distance(point, (sx, sy)) <= d:\n",
    "            return True\n",
    "    return False\n",
    "\n",
    "def point_in_range(point):\n",
    "    return point[0] >= 0 and point[1] >= 0 and point[0] < 4000000 and point[1] < 4000000\n",
    "\n",
    "def find_outside_points(sensors):\n",
    "    outside_points = set()\n",
    "\n",
    "    for sx,sy,d in sensors:\n",
    "        # West\n",
    "        for idx,x in enumerate(range(sx-d-1, sx)):\n",
    "            # Northwest\n",
    "            pnw = (x, sy+idx)\n",
    "            if point_in_range(pnw):\n",
    "                if pnw in outside_points :\n",
    "                    #outside_points.remove(pnw)\n",
    "                    pass\n",
    "                else:\n",
    "                    outside_points.add(pnw)\n",
    "            # Southwest\n",
    "            psw = (x, sy-idx)\n",
    "            if point_in_range(psw):\n",
    "                if psw in outside_points:\n",
    "                    #outside_points.remove(psw)\n",
    "                    pass\n",
    "                else:\n",
    "                    outside_points.add(psw)\n",
    "        # East\n",
    "        for idx,x in enumerate(range(sx, sx+d+1+1)):\n",
    "            # Northeast\n",
    "            pne = (x, sy + (d+1) - idx)\n",
    "            if point_in_range(pne):\n",
    "                if pne in outside_points:\n",
    "                    #outside_points.remove(pne)\n",
    "                    pass\n",
    "                else:\n",
    "                    outside_points.add(pne)\n",
    "            # Southeast\n",
    "            pse = (x, sy -(d+1) + idx)\n",
    "            if point_in_range(pse):\n",
    "                if pse in outside_points:\n",
    "                    #outside_points.remove(pse)\n",
    "                    pass\n",
    "                else:\n",
    "                    outside_points.add(pse)\n",
    "    return outside_points\n",
    "\n",
    "\n",
    "def find_tuning_frequency(point):\n",
    "    return point[1] * 4000000 + point[0]"
   ]
  },
  {
   "cell_type": "code",
   "execution_count": 3,
   "metadata": {},
   "outputs": [],
   "source": [
    "filename = 'input.txt'\n",
    "with open(filename, 'r') as f:\n",
    "    input = f.readlines()\n",
    "\n",
    "sensors, beacons = list(), list()\n",
    "for line in input:\n",
    "    splt_line = line.strip().split()\n",
    "    sx = eval(splt_line[2][2:].replace(',', '').replace(':', ''))\n",
    "    sy = eval(splt_line[3][2:].replace(',', '').replace(':', ''))\n",
    "    bx = eval(splt_line[8][2:].replace(',', '').replace(':', ''))\n",
    "    by = eval(splt_line[9][2:].replace(',', '').replace(':', ''))\n",
    "    dist = manhattan_distance((sy,sx), (by,bx))\n",
    "    # notice swap of x/y to get axes conventional\n",
    "    sensors.append((sy,sx,dist))\n",
    "    beacons.append((by, bx))"
   ]
  },
  {
   "cell_type": "code",
   "execution_count": 91,
   "metadata": {},
   "outputs": [
    {
     "name": "stdout",
     "output_type": "stream",
     "text": [
      "5240818\n"
     ]
    }
   ],
   "source": [
    "x = 2000000\n",
    "#y = 10\n",
    "\n",
    "min_y = min([y-d for _,y,d in sensors])\n",
    "max_y = max([y+d for _,y,d in sensors])\n",
    "\n",
    "# iterate through row\n",
    "cnt = 0\n",
    "for y in range(min_y, max_y):\n",
    "    if point_within_sensor_range((x,y), sensors) and (x,y) not in beacons:\n",
    "        cnt += 1\n",
    "print(cnt) # 5240818"
   ]
  },
  {
   "cell_type": "code",
   "execution_count": 16,
   "metadata": {},
   "outputs": [],
   "source": [
    "op = find_outside_points([(6,6,3)])"
   ]
  },
  {
   "cell_type": "code",
   "execution_count": 17,
   "metadata": {},
   "outputs": [
    {
     "data": {
      "text/plain": [
       "{(2, 6),\n",
       " (3, 5),\n",
       " (3, 7),\n",
       " (4, 4),\n",
       " (4, 8),\n",
       " (5, 3),\n",
       " (5, 9),\n",
       " (6, 2),\n",
       " (6, 10),\n",
       " (7, 3),\n",
       " (7, 9),\n",
       " (8, 4),\n",
       " (8, 8),\n",
       " (9, 5),\n",
       " (9, 7),\n",
       " (10, 6)}"
      ]
     },
     "execution_count": 17,
     "metadata": {},
     "output_type": "execute_result"
    }
   ],
   "source": [
    "op"
   ]
  },
  {
   "cell_type": "code",
   "execution_count": 18,
   "metadata": {},
   "outputs": [],
   "source": [
    "map = [['.']*20 for i in range(20)]"
   ]
  },
  {
   "cell_type": "code",
   "execution_count": 19,
   "metadata": {},
   "outputs": [],
   "source": [
    "map[6][6] = 'S'"
   ]
  },
  {
   "cell_type": "code",
   "execution_count": 20,
   "metadata": {},
   "outputs": [],
   "source": [
    "for p in op:\n",
    "    map[p[0]][p[1]] = 'X'"
   ]
  },
  {
   "cell_type": "code",
   "execution_count": 21,
   "metadata": {},
   "outputs": [
    {
     "name": "stdout",
     "output_type": "stream",
     "text": [
      "....................\n",
      "....................\n",
      "......X.............\n",
      ".....X.X............\n",
      "....X...X...........\n",
      "...X.....X..........\n",
      "..X...S...X.........\n",
      "...X.....X..........\n",
      "....X...X...........\n",
      ".....X.X............\n",
      "......X.............\n",
      "....................\n",
      "....................\n",
      "....................\n",
      "....................\n",
      "....................\n",
      "....................\n",
      "....................\n",
      "....................\n",
      "....................\n"
     ]
    }
   ],
   "source": [
    "for row in map:\n",
    "    for char in row:\n",
    "        print(char, end='')\n",
    "    print()"
   ]
  },
  {
   "cell_type": "code",
   "execution_count": 5,
   "metadata": {},
   "outputs": [],
   "source": [
    "# Part II\n",
    "\n",
    "search_space = find_outside_points(sensors)"
   ]
  },
  {
   "cell_type": "code",
   "execution_count": 6,
   "metadata": {},
   "outputs": [
    {
     "data": {
      "text/plain": [
       "59206182"
      ]
     },
     "execution_count": 6,
     "metadata": {},
     "output_type": "execute_result"
    }
   ],
   "source": [
    "len(search_space)"
   ]
  },
  {
   "cell_type": "code",
   "execution_count": 7,
   "metadata": {},
   "outputs": [
    {
     "name": "stdout",
     "output_type": "stream",
     "text": [
      "Answer part II: 13213086906101\n",
      "Inverse answer part II: 11624407303271\n",
      "p: (2906101, 3303271)\n"
     ]
    }
   ],
   "source": [
    "range = 4000000\n",
    "\n",
    "for p in search_space:\n",
    "    if p[0] >= 0 and p[0] <= range and p[1] >= 0 and p[1] <= range:\n",
    "        if not point_within_sensor_range(p, sensors): #and p not in beacons:\n",
    "            print('Answer part II:', find_tuning_frequency(p))\n",
    "            print('p:', p)\n",
    "            break\n",
    "\n",
    "# right answer: 13213086906101"
   ]
  },
  {
   "cell_type": "code",
   "execution_count": 7,
   "metadata": {},
   "outputs": [
    {
     "data": {
      "text/plain": [
       "False"
      ]
     },
     "execution_count": 7,
     "metadata": {},
     "output_type": "execute_result"
    }
   ],
   "source": [
    "point_within_sensor_range((11, 14), sensors)"
   ]
  },
  {
   "cell_type": "code",
   "execution_count": 8,
   "metadata": {},
   "outputs": [
    {
     "data": {
      "text/plain": [
       "True"
      ]
     },
     "execution_count": 8,
     "metadata": {},
     "output_type": "execute_result"
    }
   ],
   "source": [
    "(11,14) in search_space"
   ]
  },
  {
   "cell_type": "code",
   "execution_count": null,
   "metadata": {},
   "outputs": [],
   "source": []
  }
 ],
 "metadata": {
  "kernelspec": {
   "display_name": "Python 3",
   "language": "python",
   "name": "python3"
  },
  "language_info": {
   "codemirror_mode": {
    "name": "ipython",
    "version": 3
   },
   "file_extension": ".py",
   "mimetype": "text/x-python",
   "name": "python",
   "nbconvert_exporter": "python",
   "pygments_lexer": "ipython3",
   "version": "3.8.10"
  },
  "orig_nbformat": 4,
  "vscode": {
   "interpreter": {
    "hash": "916dbcbb3f70747c44a77c7bcd40155683ae19c65e1c03b4aa3499c5328201f1"
   }
  }
 },
 "nbformat": 4,
 "nbformat_minor": 2
}
