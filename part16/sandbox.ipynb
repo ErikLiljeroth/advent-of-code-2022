{
 "cells": [
  {
   "cell_type": "code",
   "execution_count": 1,
   "metadata": {},
   "outputs": [],
   "source": [
    "import re\n",
    "from collections import defaultdict\n",
    "from math import inf as INFINITY\n",
    "from itertools import product, combinations"
   ]
  },
  {
   "cell_type": "code",
   "execution_count": 2,
   "metadata": {},
   "outputs": [],
   "source": [
    "filename = 'input.txt'\n",
    "with open(filename, 'r+') as f:\n",
    "    lines = f.readlines()\n",
    "lines = [re.split('[\\\\s=;,]+', x.strip()) for x in lines]\n",
    "G = {line[1]:line[10:] for line in lines} # graph\n",
    "F = {line[1]:int(line[5]) for line in lines if int(line[5]) != 0} # flows exluding valves with flow 0\n",
    "valves = set(F.keys()) # only visit valves that have flow > 0\n",
    "\n",
    "def score(flow_rates, chosen_valves):\n",
    "    result = 0\n",
    "    for valve, time_left in chosen_valves.items():\n",
    "        result += flow_rates[valve] * time_left\n",
    "    return result\n",
    "\n",
    "def floyd_warshall(graph):\n",
    "    # Floyd-Warshall algorithm\n",
    "    # returns distance[Dict[Dict]]\n",
    "    # distance['AA']['BB'] -> minimum distance from valve AA to BB\n",
    "    distance = defaultdict(lambda:defaultdict(lambda: INFINITY))\n",
    "    for cur_node, nodes in graph.items():\n",
    "        distance[cur_node][cur_node] = 0\n",
    "\n",
    "        for node in nodes:\n",
    "            distance[cur_node][node] = 1\n",
    "            distance[node][node] = 0\n",
    "\n",
    "    for a,b,c in product(graph, graph, graph):\n",
    "        bc, ba, ac = distance[b][c], distance[b][a], distance[a][c]\n",
    "        if ba + ac < bc:\n",
    "            distance[b][c] = ba + ac\n",
    "\n",
    "    return distance\n",
    "\n",
    "def floyd2(G):\n",
    "    T = {x: {y: 1 if y in G[x] else float('+inf') for y in G} for x in G}\n",
    "    for k in T:\n",
    "        for i in T:\n",
    "            for j in T:\n",
    "                T[i][j] = min(T[i][j], T[i][k]+T[k][j])\n",
    "    return T"
   ]
  },
  {
   "cell_type": "code",
   "execution_count": 7,
   "metadata": {},
   "outputs": [],
   "source": [
    "def solutions(distance, valves, time = 30, cur = 'AA', chosen = {}):\n",
    "    # For all the valves we can currenntly choose:\n",
    "    for nxt in valves:\n",
    "        # 1 min plus to open the valve\n",
    "        new_time = time - (distance[cur][nxt] + 1)\n",
    "        # Stop condition for recursion - out of budget\n",
    "        if new_time <= 0:\n",
    "            continue\n",
    "        # dict union python 3.9\n",
    "        # new_chosen = chosen | {nxt:new_time}\n",
    "        new_chosen = {**chosen, **{nxt:new_time}}\n",
    "        # remove nxt from set of valves\n",
    "        new_valves = valves - {nxt}\n",
    "        yield from solutions(distance, new_valves, new_time, nxt, new_chosen)\n",
    "    yield chosen"
   ]
  },
  {
   "cell_type": "code",
   "execution_count": 8,
   "metadata": {},
   "outputs": [
    {
     "name": "stdout",
     "output_type": "stream",
     "text": [
      "1595\n"
     ]
    }
   ],
   "source": [
    "distance = floyd_warshall(G)\n",
    "best = 0\n",
    "for choice in solutions(distance, valves):\n",
    "    cur = score(F, choice)\n",
    "    if cur > best:\n",
    "        best = cur\n",
    "print(best)"
   ]
  },
  {
   "cell_type": "code",
   "execution_count": 13,
   "metadata": {},
   "outputs": [],
   "source": [
    "# part II\n",
    "\n",
    "maxscore = defaultdict(int)\n",
    "distance = floyd2(G)\n",
    "choices = list(solutions(distance, valves, time = 26))\n",
    "\n",
    "for choice in choices:\n",
    "    k = frozenset(choice)\n",
    "    s = score(F, choice)\n",
    "\n",
    "    if s > maxscore[k]:\n",
    "        maxscore[k] = s"
   ]
  },
  {
   "cell_type": "code",
   "execution_count": 17,
   "metadata": {},
   "outputs": [
    {
     "data": {
      "text/plain": [
       "{'ZB': 20, 'CE': 14, 'CD': 6, 'TM': 2}"
      ]
     },
     "execution_count": 17,
     "metadata": {},
     "output_type": "execute_result"
    }
   ],
   "source": [
    "choices[1]"
   ]
  },
  {
   "cell_type": "code",
   "execution_count": 10,
   "metadata": {},
   "outputs": [],
   "source": [
    "total2 = max(v1+v2 for k1, v1 in maxscore.items() for k2, v2 in maxscore.items() if not k1 & k2)"
   ]
  },
  {
   "cell_type": "code",
   "execution_count": 201,
   "metadata": {},
   "outputs": [],
   "source": [
    "best = 0 # correct is 2189 (why?!)\n",
    "for (s1, score1), (s2, score2) in combinations(maxscore.items(), 2):\n",
    "    #print(s1, s2)\n",
    "    if len(s1.intersection(s2)) != 0 or (len(s1) == 0) or (len(s2) == 0):\n",
    "        continue\n",
    "\n",
    "    cur = score1 + score2\n",
    "    if cur > best:\n",
    "        best = cur"
   ]
  },
  {
   "cell_type": "code",
   "execution_count": 11,
   "metadata": {},
   "outputs": [],
   "source": [
    "best = max(sa + sb for (a, sa), (b, sb) in combinations(maxscore.items(), 2) if not a & b)"
   ]
  },
  {
   "cell_type": "code",
   "execution_count": 12,
   "metadata": {},
   "outputs": [
    {
     "data": {
      "text/plain": [
       "2189"
      ]
     },
     "execution_count": 12,
     "metadata": {},
     "output_type": "execute_result"
    }
   ],
   "source": [
    "best"
   ]
  },
  {
   "cell_type": "code",
   "execution_count": null,
   "metadata": {},
   "outputs": [],
   "source": []
  }
 ],
 "metadata": {
  "kernelspec": {
   "display_name": "Python 3",
   "language": "python",
   "name": "python3"
  },
  "language_info": {
   "codemirror_mode": {
    "name": "ipython",
    "version": 3
   },
   "file_extension": ".py",
   "mimetype": "text/x-python",
   "name": "python",
   "nbconvert_exporter": "python",
   "pygments_lexer": "ipython3",
   "version": "3.8.10"
  },
  "orig_nbformat": 4,
  "vscode": {
   "interpreter": {
    "hash": "916dbcbb3f70747c44a77c7bcd40155683ae19c65e1c03b4aa3499c5328201f1"
   }
  }
 },
 "nbformat": 4,
 "nbformat_minor": 2
}
