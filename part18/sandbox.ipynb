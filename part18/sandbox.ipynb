{
 "cells": [
  {
   "cell_type": "code",
   "execution_count": 38,
   "metadata": {},
   "outputs": [],
   "source": [
    "filename = 'input.txt'\n",
    "\n",
    "coords = set()\n",
    "\n",
    "with open(filename, 'r') as f:\n",
    "    for line in f:\n",
    "        line_tuple = tuple(eval(line.strip()))\n",
    "        coords.add(line_tuple)"
   ]
  },
  {
   "cell_type": "code",
   "execution_count": 39,
   "metadata": {},
   "outputs": [],
   "source": [
    "scope_xyz_min = [min(c[i]-1 for c in coords) for i in range(3)]\n",
    "scope_xyz_max = [max(c[i]+1 for c in coords) for i in range(3)]"
   ]
  },
  {
   "cell_type": "code",
   "execution_count": 40,
   "metadata": {},
   "outputs": [],
   "source": [
    "def in_scope(cube):\n",
    "    return all(cube[i] >= scope_xyz_min[i] and cube[i] <= scope_xyz_max[i] for i in range(3))\n",
    "\n",
    "def get_neighbours(cube):\n",
    "    dirs = [(1,0,0), (-1,0,0), (0,1,0), (0,-1,0), (0,0,1), (0,0,-1)]\n",
    "    return [tuple(sum(tup) for tup in zip(cube, d)) for d in dirs]\n"
   ]
  },
  {
   "cell_type": "code",
   "execution_count": 41,
   "metadata": {},
   "outputs": [
    {
     "name": "stdout",
     "output_type": "stream",
     "text": [
      "3522\n"
     ]
    }
   ],
   "source": [
    "# Part I\n",
    "exposed_sides = 0\n",
    "for c in list(coords):\n",
    "    next_2_cnt = 0\n",
    "    if (c[0], c[1], c[2]-1) in coords:\n",
    "        next_2_cnt += 1\n",
    "    if (c[0], c[1], c[2]+1) in coords:\n",
    "        next_2_cnt += 1\n",
    "    if (c[0], c[1]-1, c[2]) in coords:\n",
    "        next_2_cnt += 1\n",
    "    if (c[0], c[1]+1, c[2]) in coords:\n",
    "        next_2_cnt += 1\n",
    "    if (c[0]-1, c[1], c[2]) in coords:\n",
    "        next_2_cnt += 1\n",
    "    if (c[0]+1, c[1], c[2]) in coords:\n",
    "        next_2_cnt += 1\n",
    "    exposed_sides += (6-next_2_cnt)\n",
    "print(exposed_sides)"
   ]
  },
  {
   "cell_type": "code",
   "execution_count": 42,
   "metadata": {},
   "outputs": [
    {
     "name": "stdout",
     "output_type": "stream",
     "text": [
      "2074\n"
     ]
    }
   ],
   "source": [
    "# Part II - bfs\n",
    "\n",
    "exposed_outer_sides = 0\n",
    "seen_cubes = set()\n",
    "queue = [tuple(scope_xyz_max)]\n",
    "\n",
    "while queue:\n",
    "    curr_cube = queue.pop(0)\n",
    "    if curr_cube in coords:\n",
    "        exposed_outer_sides += 1\n",
    "        continue\n",
    "    if curr_cube not in seen_cubes:\n",
    "        seen_cubes.add(curr_cube)\n",
    "        for nbr in get_neighbours(curr_cube):\n",
    "            if in_scope(nbr):\n",
    "                queue.append(nbr)\n",
    "\n",
    "print(exposed_outer_sides)"
   ]
  },
  {
   "cell_type": "code",
   "execution_count": null,
   "metadata": {},
   "outputs": [],
   "source": []
  }
 ],
 "metadata": {
  "kernelspec": {
   "display_name": "Python 3.8.8 ('base')",
   "language": "python",
   "name": "python3"
  },
  "language_info": {
   "codemirror_mode": {
    "name": "ipython",
    "version": 3
   },
   "file_extension": ".py",
   "mimetype": "text/x-python",
   "name": "python",
   "nbconvert_exporter": "python",
   "pygments_lexer": "ipython3",
   "version": "3.8.8 (default, Apr 13 2021, 19:58:26) \n[GCC 7.3.0]"
  },
  "orig_nbformat": 4,
  "vscode": {
   "interpreter": {
    "hash": "8c4c8510ef8ebf92c71b12674dd4c6e46a22be7143d6d92cf0443214191cf3c1"
   }
  }
 },
 "nbformat": 4,
 "nbformat_minor": 2
}
