{
 "cells": [
  {
   "cell_type": "code",
   "execution_count": 55,
   "metadata": {},
   "outputs": [],
   "source": [
    "filename = 'input.txt'\n",
    "\n",
    "with open(filename, 'r') as f:\n",
    "    input = f.readlines()"
   ]
  },
  {
   "cell_type": "code",
   "execution_count": 56,
   "metadata": {},
   "outputs": [],
   "source": [
    "# Rock, paper, scissors - part I\n",
    "outcome_points = {\n",
    "    'A X': 3 + 1,\n",
    "    'A Y': 6 + 2,\n",
    "    'A Z': 0 + 3,\n",
    "    'B X': 0 + 1,\n",
    "    'B Y': 3 + 2,\n",
    "    'B Z': 6 + 3,\n",
    "    'C X': 6 + 1,\n",
    "    'C Y': 0 + 2,\n",
    "    'C Z': 3 + 3\n",
    "}\n",
    "\n",
    "# counter action dict - part II\n",
    "# X: lose, Y:draw, Z:win\n",
    "outcome_acion = {\n",
    "    'A X': 'A Z',\n",
    "    'A Y': 'A X',\n",
    "    'A Z': 'A Y',\n",
    "    'B X': 'B X',\n",
    "    'B Y': 'B Y',\n",
    "    'B Z': 'B Z',\n",
    "    'C X': 'C Y',\n",
    "    'C Y': 'C Z',\n",
    "    'C Z': 'C X'\n",
    "}"
   ]
  },
  {
   "cell_type": "code",
   "execution_count": 66,
   "metadata": {},
   "outputs": [],
   "source": [
    "# part I & II\n",
    "def calc_points(input):\n",
    "    total_points = 0\n",
    "    for row in input:\n",
    "        cur_row = row.strip()\n",
    "        total_points += outcome_points[cur_row]\n",
    "\n",
    "    return total_points\n",
    "\n",
    "# part II\n",
    "def transform_action_calc_points(input):\n",
    "    total_points = 0\n",
    "    for row in input:\n",
    "        cur_row = row.strip()\n",
    "        total_points += outcome_points[outcome_acion[cur_row]]\n",
    "    return total_points"
   ]
  },
  {
   "cell_type": "code",
   "execution_count": 67,
   "metadata": {},
   "outputs": [
    {
     "data": {
      "text/plain": [
       "9177"
      ]
     },
     "execution_count": 67,
     "metadata": {},
     "output_type": "execute_result"
    }
   ],
   "source": [
    "# Part I\n",
    "calc_points(input)"
   ]
  },
  {
   "cell_type": "code",
   "execution_count": 68,
   "metadata": {},
   "outputs": [
    {
     "data": {
      "text/plain": [
       "12111"
      ]
     },
     "execution_count": 68,
     "metadata": {},
     "output_type": "execute_result"
    }
   ],
   "source": [
    "# Part II\n",
    "transform_action_calc_points(input)"
   ]
  },
  {
   "cell_type": "code",
   "execution_count": null,
   "metadata": {},
   "outputs": [],
   "source": []
  }
 ],
 "metadata": {
  "kernelspec": {
   "display_name": "Python 3.8.8 ('base')",
   "language": "python",
   "name": "python3"
  },
  "language_info": {
   "codemirror_mode": {
    "name": "ipython",
    "version": 3
   },
   "file_extension": ".py",
   "mimetype": "text/x-python",
   "name": "python",
   "nbconvert_exporter": "python",
   "pygments_lexer": "ipython3",
   "version": "3.8.8"
  },
  "orig_nbformat": 4,
  "vscode": {
   "interpreter": {
    "hash": "8c4c8510ef8ebf92c71b12674dd4c6e46a22be7143d6d92cf0443214191cf3c1"
   }
  }
 },
 "nbformat": 4,
 "nbformat_minor": 2
}
