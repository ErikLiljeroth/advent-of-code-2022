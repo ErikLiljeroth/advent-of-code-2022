{
 "cells": [
  {
   "cell_type": "code",
   "execution_count": 28,
   "metadata": {},
   "outputs": [],
   "source": [
    "import copy"
   ]
  },
  {
   "cell_type": "code",
   "execution_count": 20,
   "metadata": {},
   "outputs": [],
   "source": [
    "filename = 'input.txt'\n",
    "with open(filename, 'r') as f:\n",
    "    input = f.readlines()\n",
    "input = [eval(row) for row in input]\n",
    "input_len = len(input)"
   ]
  },
  {
   "cell_type": "code",
   "execution_count": 21,
   "metadata": {},
   "outputs": [],
   "source": [
    "output_keys = list(range(input_len))\n",
    "output_vals = copy.copy(input)"
   ]
  },
  {
   "cell_type": "code",
   "execution_count": 22,
   "metadata": {},
   "outputs": [],
   "source": [
    "for idx, val in enumerate(input):\n",
    "    cur_output_idx = output_keys.index(idx)\n",
    "    new_output_idx = (cur_output_idx + val) % (input_len - 1)\n",
    "    if new_output_idx == 0:\n",
    "        new_output_idx = input_len-1\n",
    "\n",
    "    output_keys.pop(cur_output_idx)\n",
    "    output_keys.insert(new_output_idx, idx)\n",
    "    output_vals.pop(cur_output_idx)\n",
    "    output_vals.insert(new_output_idx, val)\n",
    "\n",
    "    #print(f'{val} moves from idx {cur_output_idx} to idx {new_output_idx}')\n",
    "    #print(output_vals)\n",
    "    #print()"
   ]
  },
  {
   "cell_type": "code",
   "execution_count": 23,
   "metadata": {},
   "outputs": [
    {
     "name": "stdout",
     "output_type": "stream",
     "text": [
      "[-4417, 1267, 6623]\n",
      "Answer Part I: 3473\n"
     ]
    }
   ],
   "source": [
    "# Find score\n",
    "idx_val_0 = output_vals.index(0)\n",
    "score_idxs = [(1000 + idx_val_0) % input_len, (2000 + idx_val_0) % input_len, (3000 + idx_val_0) % input_len]\n",
    "scores = [output_vals[idx] for idx in score_idxs]\n",
    "print(scores)\n",
    "\n",
    "print('Answer Part I:', sum(scores))"
   ]
  },
  {
   "cell_type": "code",
   "execution_count": 5,
   "metadata": {},
   "outputs": [],
   "source": [
    "import copy\n",
    "def solve(part, filename):\n",
    "    dec_key = 811589153\n",
    "\n",
    "    filename = filename\n",
    "    with open(filename, 'r') as f:\n",
    "        input = f.readlines()\n",
    "    if part == 'I':\n",
    "        iter = 1\n",
    "        input = [eval(row) for row in input]\n",
    "    else:\n",
    "        iter = 10\n",
    "        input = [eval(row) * dec_key for row in input]\n",
    "    input_len = len(input)\n",
    "    output_keys = list(range(input_len))\n",
    "    output_vals = copy.copy(input)\n",
    "\n",
    "    for i in range(iter):\n",
    "        for idx, val in enumerate(input):\n",
    "            cur_output_idx = output_keys.index(idx)\n",
    "            new_output_idx = (cur_output_idx + val) % (input_len - 1)\n",
    "            # according to example: nbr jumps to end of list if calculated idx according to formulae above is 0\n",
    "            if new_output_idx == 0:\n",
    "                new_output_idx = input_len-1\n",
    "\n",
    "            output_keys.pop(cur_output_idx)\n",
    "            output_keys.insert(new_output_idx, idx)\n",
    "            output_vals.pop(cur_output_idx)\n",
    "            output_vals.insert(new_output_idx, val)\n",
    "\n",
    "            #print(f'{val} moves from idx {cur_output_idx} to idx {new_output_idx}')\n",
    "            #print(output_vals)\n",
    "            #print()\n",
    "    # Find score\n",
    "    idx_val_0 = output_vals.index(0)\n",
    "    score_idxs = [(1000 + idx_val_0) % input_len, (2000 + idx_val_0) % input_len, (3000 + idx_val_0) % input_len]\n",
    "    scores = [output_vals[idx] for idx in score_idxs]\n",
    "    return sum(scores)"
   ]
  },
  {
   "cell_type": "code",
   "execution_count": 8,
   "metadata": {},
   "outputs": [
    {
     "name": "stdout",
     "output_type": "stream",
     "text": [
      "3473\n"
     ]
    }
   ],
   "source": [
    "# Part II\n",
    "print(solve('I', 'input.txt'))"
   ]
  },
  {
   "cell_type": "code",
   "execution_count": null,
   "metadata": {},
   "outputs": [],
   "source": []
  }
 ],
 "metadata": {
  "kernelspec": {
   "display_name": "Python 3",
   "language": "python",
   "name": "python3"
  },
  "language_info": {
   "codemirror_mode": {
    "name": "ipython",
    "version": 3
   },
   "file_extension": ".py",
   "mimetype": "text/x-python",
   "name": "python",
   "nbconvert_exporter": "python",
   "pygments_lexer": "ipython3",
   "version": "3.8.10"
  },
  "orig_nbformat": 4,
  "vscode": {
   "interpreter": {
    "hash": "916dbcbb3f70747c44a77c7bcd40155683ae19c65e1c03b4aa3499c5328201f1"
   }
  }
 },
 "nbformat": 4,
 "nbformat_minor": 2
}
