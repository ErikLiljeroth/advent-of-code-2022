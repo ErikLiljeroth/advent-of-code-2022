{
 "cells": [
  {
   "cell_type": "code",
   "execution_count": 8,
   "metadata": {},
   "outputs": [],
   "source": [
    "filename = 'input.txt'\n",
    "with open(filename, 'r') as f:\n",
    "    input = f.readlines()\n",
    "\n",
    "yell_dict = {}\n",
    "oper_dict = {}\n",
    "for line in input:\n",
    "    id, *job = line.replace(':', '').strip().split()\n",
    "    if len(job) == 1:\n",
    "        yell_dict[id] = eval(job[0])\n",
    "    else:\n",
    "        oper_dict[id] = job"
   ]
  },
  {
   "cell_type": "code",
   "execution_count": 9,
   "metadata": {},
   "outputs": [],
   "source": [
    "while len(oper_dict) > 0:\n",
    "    for key in oper_dict.keys():\n",
    "        if oper_dict[key][0] in yell_dict.keys() and oper_dict[key][2] in yell_dict.keys():\n",
    "            yell_dict[key] = int(eval(f'{yell_dict[oper_dict[key][0]]} {oper_dict[key][1]} {yell_dict[oper_dict[key][2]]}'))\n",
    "            oper_dict.pop(key)\n",
    "            break\n",
    "print(yell_dict['root'])"
   ]
  },
  {
   "cell_type": "code",
   "execution_count": 10,
   "metadata": {},
   "outputs": [
    {
     "data": {
      "text/plain": [
       "{}"
      ]
     },
     "execution_count": 10,
     "metadata": {},
     "output_type": "execute_result"
    }
   ],
   "source": [
    "oper_dict"
   ]
  },
  {
   "cell_type": "code",
   "execution_count": 3,
   "metadata": {},
   "outputs": [],
   "source": [
    "# Part II\n",
    "\n",
    "filename = 'input.txt'\n",
    "with open(filename, 'r') as f:\n",
    "    input = f.readlines()\n",
    "\n",
    "yell_dict = {}\n",
    "oper_dict = {}\n",
    "for line in input:\n",
    "    id, *job = line.replace(':', '').strip().split()\n",
    "    if len(job) == 1:\n",
    "        yell_dict[id] = eval(job[0])\n",
    "    else:\n",
    "        oper_dict[id] = job\n",
    "oper_dict['root'][1] = '-'"
   ]
  },
  {
   "cell_type": "code",
   "execution_count": 1,
   "metadata": {},
   "outputs": [],
   "source": [
    "import copy\n",
    "def get_root_4_humn(humn_val, yell_dict, oper_dict):\n",
    "    yell_dict_fcn = copy.deepcopy(yell_dict)\n",
    "    yell_dict_fcn['humn'] = humn_val\n",
    "    oper_dict_fcn = copy.deepcopy(oper_dict)\n",
    "    while len(oper_dict_fcn) > 0:\n",
    "        for key in oper_dict_fcn.keys():\n",
    "            if oper_dict_fcn[key][0] in yell_dict_fcn.keys() and oper_dict_fcn[key][2] in yell_dict_fcn.keys():\n",
    "                yell_dict_fcn[key] = round(eval(f'{yell_dict_fcn[oper_dict_fcn[key][0]]} {oper_dict_fcn[key][1]} {yell_dict_fcn[oper_dict_fcn[key][2]]}'))\n",
    "                oper_dict_fcn.pop(key)\n",
    "                break\n",
    "    return yell_dict_fcn['root']\n"
   ]
  },
  {
   "cell_type": "code",
   "execution_count": 2,
   "metadata": {},
   "outputs": [],
   "source": [
    "def binary_search(yell_dict, oper_dict, low, high):\n",
    "    while low != high:\n",
    "        mid = int((low + high)/2)\n",
    "        nbor_left_result = abs(get_root_4_humn(mid-1, yell_dict, oper_dict))\n",
    "        mid_result = abs(get_root_4_humn(mid, yell_dict, oper_dict))\n",
    "        nbr_right_result = abs(get_root_4_humn(mid+1, yell_dict, oper_dict))\n",
    "\n",
    "        if mid_result == 0:\n",
    "            return mid\n",
    "        elif nbr_right_result < mid_result:\n",
    "            low = mid+1\n",
    "        elif nbor_left_result < mid_result:\n",
    "            high = mid-1\n",
    "    return low\n"
   ]
  },
  {
   "cell_type": "code",
   "execution_count": 4,
   "metadata": {},
   "outputs": [
    {
     "data": {
      "text/plain": [
       "3296135418820"
      ]
     },
     "execution_count": 4,
     "metadata": {},
     "output_type": "execute_result"
    }
   ],
   "source": [
    "binary_search(yell_dict, oper_dict, low = 0, high = 2**48)"
   ]
  },
  {
   "cell_type": "code",
   "execution_count": 23,
   "metadata": {},
   "outputs": [
    {
     "data": {
      "text/plain": [
       "0"
      ]
     },
     "execution_count": 23,
     "metadata": {},
     "output_type": "execute_result"
    }
   ],
   "source": [
    "get_root_4_humn(3296135418820, yell_dict, oper_dict)"
   ]
  },
  {
   "cell_type": "code",
   "execution_count": null,
   "metadata": {},
   "outputs": [],
   "source": []
  }
 ],
 "metadata": {
  "kernelspec": {
   "display_name": "Python 3",
   "language": "python",
   "name": "python3"
  },
  "language_info": {
   "codemirror_mode": {
    "name": "ipython",
    "version": 3
   },
   "file_extension": ".py",
   "mimetype": "text/x-python",
   "name": "python",
   "nbconvert_exporter": "python",
   "pygments_lexer": "ipython3",
   "version": "3.8.10"
  },
  "orig_nbformat": 4,
  "vscode": {
   "interpreter": {
    "hash": "916dbcbb3f70747c44a77c7bcd40155683ae19c65e1c03b4aa3499c5328201f1"
   }
  }
 },
 "nbformat": 4,
 "nbformat_minor": 2
}
