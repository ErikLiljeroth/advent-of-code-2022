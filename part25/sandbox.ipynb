{
 "cells": [
  {
   "cell_type": "code",
   "execution_count": 68,
   "metadata": {},
   "outputs": [],
   "source": [
    "import numpy as np\n",
    "import copy"
   ]
  },
  {
   "cell_type": "code",
   "execution_count": 69,
   "metadata": {},
   "outputs": [],
   "source": [
    "filename = 'input.txt'\n",
    "with open(filename, 'r') as f:\n",
    "    input = f.readlines()\n"
   ]
  },
  {
   "cell_type": "code",
   "execution_count": 70,
   "metadata": {},
   "outputs": [],
   "source": [
    "def snafu_2_dec(snafu_str):\n",
    "    conv_dict = {'2':2, '1':1, '0':0, '-':-1, '=':-2}\n",
    "    chars = [(c,len(snafu_str) - i - 1) for i,c in enumerate(snafu_str)]\n",
    "    output = 0\n",
    "    for char in chars:\n",
    "        output += conv_dict[char[0]] * (5**(char[1]))\n",
    "    return output\n",
    "\n",
    "def dec_2_snafu(dec_nbr):\n",
    "    action_dict = {0:'0', 1:'1', 2:'2', 3:'=', 4:'-'}\n",
    "    snafu_str = []\n",
    "    cnt = 0\n",
    "    nbr = copy.copy(dec_nbr)\n",
    "    while nbr != 0:\n",
    "        rest = nbr % 5\n",
    "        nbr = nbr - rest\n",
    "        if rest in [3, 4]:\n",
    "            nbr = nbr + (5**(cnt+1))\n",
    "        snafu_str.insert(0, action_dict[rest])\n",
    "        nbr = int(nbr/5)\n",
    "    return snafu_str"
   ]
  },
  {
   "cell_type": "code",
   "execution_count": 75,
   "metadata": {},
   "outputs": [],
   "source": [
    "# Part I\n",
    "sum = 0\n",
    "for line in input:\n",
    "    sum += snafu_2_dec(line.strip())\n",
    "result = dec_2_snafu(sum)\n",
    "result = ''.join(result)"
   ]
  },
  {
   "cell_type": "code",
   "execution_count": 76,
   "metadata": {},
   "outputs": [
    {
     "data": {
      "text/plain": [
       "'20=022=21--=2--12=-2'"
      ]
     },
     "execution_count": 76,
     "metadata": {},
     "output_type": "execute_result"
    }
   ],
   "source": [
    "result"
   ]
  },
  {
   "cell_type": "code",
   "execution_count": null,
   "metadata": {},
   "outputs": [],
   "source": []
  }
 ],
 "metadata": {
  "kernelspec": {
   "display_name": "Python 3",
   "language": "python",
   "name": "python3"
  },
  "language_info": {
   "codemirror_mode": {
    "name": "ipython",
    "version": 3
   },
   "file_extension": ".py",
   "mimetype": "text/x-python",
   "name": "python",
   "nbconvert_exporter": "python",
   "pygments_lexer": "ipython3",
   "version": "3.8.10"
  },
  "orig_nbformat": 4,
  "vscode": {
   "interpreter": {
    "hash": "916dbcbb3f70747c44a77c7bcd40155683ae19c65e1c03b4aa3499c5328201f1"
   }
  }
 },
 "nbformat": 4,
 "nbformat_minor": 2
}
