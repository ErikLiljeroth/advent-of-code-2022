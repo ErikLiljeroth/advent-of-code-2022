{
 "cells": [
  {
   "cell_type": "code",
   "execution_count": 59,
   "metadata": {},
   "outputs": [],
   "source": [
    "import string\n",
    "from typing import List"
   ]
  },
  {
   "cell_type": "code",
   "execution_count": 60,
   "metadata": {},
   "outputs": [],
   "source": [
    "filename = 'input.txt'\n",
    "\n",
    "with open(filename, 'r') as f:\n",
    "    input = f.readlines()\n",
    "\n",
    "letters_lc = ['a','b','c','d','e','f','g','h','i','j','k','l','m','n','o','p','q','r','s','t','u','v','w','x','y','z']\n",
    "letters_uc = ['A','B','C','D','E','F','G','H','I','J','K','L','M','N','O','P','Q','R','S','T','U','V','W','X','Y','Z']\n",
    "letters = letters_lc + letters_uc\n",
    "\n",
    "PRIORITY_DICT = dict(zip(letters, range(1,53)))"
   ]
  },
  {
   "cell_type": "code",
   "execution_count": 61,
   "metadata": {},
   "outputs": [
    {
     "data": {
      "text/plain": [
       "0"
      ]
     },
     "execution_count": 61,
     "metadata": {},
     "output_type": "execute_result"
    }
   ],
   "source": [
    "string.ascii_letters.index('a')"
   ]
  },
  {
   "cell_type": "code",
   "execution_count": 24,
   "metadata": {},
   "outputs": [
    {
     "name": "stdout",
     "output_type": "stream",
     "text": [
      "12\n",
      "12\n"
     ]
    }
   ],
   "source": [
    "test_str = 'vJrwpWtwJgWrhcsFMMfFFhFp'\n",
    "\n",
    "len_str = len(test_str)\n",
    "pivot = int(len_str/2)\n",
    "part_1 = test_str[:pivot]\n",
    "part_2 = test_str[pivot:]\n",
    "\n",
    "print(len(part_1))\n",
    "print(len(part_2))"
   ]
  },
  {
   "cell_type": "code",
   "execution_count": 47,
   "metadata": {},
   "outputs": [],
   "source": [
    "def find_unique_item(backpack_str: str) -> str:\n",
    "    len_str = len(backpack_str)\n",
    "    pivot = int(len_str/2)\n",
    "\n",
    "    first_part_str = backpack_str[:pivot]\n",
    "    second_part_str = backpack_str[pivot:]\n",
    "\n",
    "    char_count_dict = {}\n",
    "\n",
    "    for char in first_part_str:\n",
    "        if char in char_count_dict:\n",
    "            char_count_dict[char] += 1\n",
    "        else:\n",
    "            char_count_dict[char] = 1\n",
    "\n",
    "    for char in second_part_str:\n",
    "        if char in char_count_dict:\n",
    "            return char\n",
    "    return None\n",
    "\n",
    "def find_common_item(group_str_list: List[str]) -> str:\n",
    "    count_dict_1 = count_chars(group_str_list[0])\n",
    "    count_dict_2 = count_chars(group_str_list[1])\n",
    "\n",
    "    for char in group_str_list[2]:\n",
    "        if char in count_dict_1 and char in count_dict_2:\n",
    "            return char\n",
    "    return None\n",
    "\n",
    "def count_chars(str:str) -> dict:\n",
    "    count_dict = {}\n",
    "    for char in str:\n",
    "        if char in count_dict:\n",
    "            count_dict[char] += 1\n",
    "        else:\n",
    "            count_dict[char] = 1\n",
    "    return count_dict"
   ]
  },
  {
   "cell_type": "code",
   "execution_count": 66,
   "metadata": {},
   "outputs": [],
   "source": [
    "def get_priority_points(input):\n",
    "    total_points = 0\n",
    "\n",
    "    for row in input:\n",
    "        total_points += string.ascii_letters.index(find_unique_item(row)) + 1\n",
    "    return total_points\n",
    "\n",
    "def solve_part_II(input):\n",
    "\n",
    "    total_points = 0\n",
    "\n",
    "    for i in range(0, len(input), 3):\n",
    "        common_char = find_common_item([input[i], input[i+1], input[i+2]])\n",
    "        total_points += string.ascii_letters.index(common_char) + 1\n",
    "\n",
    "    return total_points\n",
    "\n"
   ]
  },
  {
   "cell_type": "code",
   "execution_count": 67,
   "metadata": {},
   "outputs": [
    {
     "data": {
      "text/plain": [
       "7997"
      ]
     },
     "execution_count": 67,
     "metadata": {},
     "output_type": "execute_result"
    }
   ],
   "source": [
    "get_priority_points(input)"
   ]
  },
  {
   "cell_type": "code",
   "execution_count": 68,
   "metadata": {},
   "outputs": [
    {
     "data": {
      "text/plain": [
       "2545"
      ]
     },
     "execution_count": 68,
     "metadata": {},
     "output_type": "execute_result"
    }
   ],
   "source": [
    "solve_part_II(input)"
   ]
  }
 ],
 "metadata": {
  "kernelspec": {
   "display_name": "Python 3.8.8 ('base')",
   "language": "python",
   "name": "python3"
  },
  "language_info": {
   "codemirror_mode": {
    "name": "ipython",
    "version": 3
   },
   "file_extension": ".py",
   "mimetype": "text/x-python",
   "name": "python",
   "nbconvert_exporter": "python",
   "pygments_lexer": "ipython3",
   "version": "3.8.8"
  },
  "orig_nbformat": 4,
  "vscode": {
   "interpreter": {
    "hash": "8c4c8510ef8ebf92c71b12674dd4c6e46a22be7143d6d92cf0443214191cf3c1"
   }
  }
 },
 "nbformat": 4,
 "nbformat_minor": 2
}
