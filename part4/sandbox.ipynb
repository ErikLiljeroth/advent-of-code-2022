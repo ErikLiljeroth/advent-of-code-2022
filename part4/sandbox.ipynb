{
 "cells": [
  {
   "cell_type": "code",
   "execution_count": 34,
   "metadata": {},
   "outputs": [],
   "source": [
    "import re"
   ]
  },
  {
   "cell_type": "code",
   "execution_count": 101,
   "metadata": {},
   "outputs": [],
   "source": [
    "filename = 'input.txt'\n",
    "\n",
    "with open(filename, 'r') as f:\n",
    "    input = f.readlines()"
   ]
  },
  {
   "cell_type": "code",
   "execution_count": 127,
   "metadata": {},
   "outputs": [],
   "source": [
    "def interval_contains_other(line_str:str) -> bool:\n",
    "    splt_nbrs = re.split(r'[-,]', line_str.strip())\n",
    "\n",
    "    # if second interval contains first\n",
    "    if int(splt_nbrs[0]) >= int(splt_nbrs[2]) and int(splt_nbrs[1]) <= int(splt_nbrs[3]):\n",
    "        return True\n",
    "    # if first interval contains second\n",
    "    elif int(splt_nbrs[2]) >= int(splt_nbrs[0]) and int(splt_nbrs[3]) <= int(splt_nbrs[1]):\n",
    "        return True\n",
    "    # otherwise no contains\n",
    "    else:\n",
    "        return False\n",
    "\n",
    "def intervals_overlap(line_str:str) -> bool:\n",
    "    splt_nbrs = re.split(r'[-,]', line_str.strip())\n",
    "\n",
    "    # if first interval shifted left\n",
    "    if int(splt_nbrs[0]) <= int(splt_nbrs[2]) and int(splt_nbrs[1]) >= int(splt_nbrs[2]):\n",
    "        return True\n",
    "    # if first interval shifted right\n",
    "    elif int(splt_nbrs[0]) <= int(splt_nbrs[3]) and int(splt_nbrs[1]) >= int(splt_nbrs[3]):\n",
    "        return True\n",
    "    # if any interval contains the other\n",
    "    elif interval_contains_other(line_str):\n",
    "        return True\n",
    "    else:\n",
    "        return False\n",
    "\n",
    "def intervals_contains_other_with_set(line_str:str) -> bool:\n",
    "    splt_nbrs = re.split(r'[-,]', line_str.strip())\n",
    "    s1 = set(range(int(splt_nbrs[0]), int(splt_nbrs[1])+1))\n",
    "    s2 = set(range(int(splt_nbrs[2]), int(splt_nbrs[3])+1))\n",
    "    return len(s1.intersection(s2)) == len(s2) or len(s1.intersection(s2)) == len(s1)\n",
    "\n",
    "def intervals_overlap_with_set(line_str:str) -> bool:\n",
    "    splt_nbrs = re.split(r'[-,]', line_str.strip())\n",
    "    s1 = set(range(int(splt_nbrs[0]), int(splt_nbrs[1])+1))\n",
    "    s2 = set(range(int(splt_nbrs[2]), int(splt_nbrs[3])+1))\n",
    "    return len(s1.intersection(s2)) > 0\n",
    "\n"
   ]
  },
  {
   "cell_type": "code",
   "execution_count": 128,
   "metadata": {},
   "outputs": [],
   "source": [
    "def solve_part_I(input):\n",
    "    counter = 0\n",
    "    for row in input:\n",
    "        if intervals_contains_other_with_set(row):\n",
    "            counter = counter + 1\n",
    "    return counter\n",
    "\n",
    "def solve_part_II(input):\n",
    "    counter = 0\n",
    "    for row in input:\n",
    "        if intervals_overlap_with_set(row):\n",
    "            counter = counter + 1\n",
    "    return counter"
   ]
  },
  {
   "cell_type": "code",
   "execution_count": 129,
   "metadata": {},
   "outputs": [
    {
     "name": "stdout",
     "output_type": "stream",
     "text": [
      "494\n"
     ]
    }
   ],
   "source": [
    "cnt = solve_part_I(input)\n",
    "print(cnt)"
   ]
  },
  {
   "cell_type": "code",
   "execution_count": 130,
   "metadata": {},
   "outputs": [
    {
     "name": "stdout",
     "output_type": "stream",
     "text": [
      "833\n"
     ]
    }
   ],
   "source": [
    "cnt = solve_part_II(input)\n",
    "print(cnt)"
   ]
  },
  {
   "cell_type": "code",
   "execution_count": null,
   "metadata": {},
   "outputs": [],
   "source": []
  }
 ],
 "metadata": {
  "kernelspec": {
   "display_name": "Python 3.8.10 64-bit",
   "language": "python",
   "name": "python3"
  },
  "language_info": {
   "codemirror_mode": {
    "name": "ipython",
    "version": 3
   },
   "file_extension": ".py",
   "mimetype": "text/x-python",
   "name": "python",
   "nbconvert_exporter": "python",
   "pygments_lexer": "ipython3",
   "version": "3.8.10"
  },
  "orig_nbformat": 4,
  "vscode": {
   "interpreter": {
    "hash": "916dbcbb3f70747c44a77c7bcd40155683ae19c65e1c03b4aa3499c5328201f1"
   }
  }
 },
 "nbformat": 4,
 "nbformat_minor": 2
}
