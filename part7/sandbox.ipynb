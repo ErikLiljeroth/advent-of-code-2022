{
 "cells": [
  {
   "cell_type": "code",
   "execution_count": 30,
   "metadata": {},
   "outputs": [],
   "source": [
    "from typing import List\n",
    "import os"
   ]
  },
  {
   "cell_type": "code",
   "execution_count": 31,
   "metadata": {},
   "outputs": [],
   "source": [
    "filename = 'input.txt'\n",
    "\n",
    "with open(filename, \"r\") as f:\n",
    "    input = f.readlines()\n"
   ]
  },
  {
   "cell_type": "code",
   "execution_count": 56,
   "metadata": {},
   "outputs": [],
   "source": [
    "def parse_input(input:List[str]):\n",
    "\n",
    "    dirs = {}\n",
    "    sub_dirs = {}\n",
    "\n",
    "    for row in input:\n",
    "\n",
    "        if row[0] == '$':\n",
    "            _, cmd, *args = row.split()\n",
    "            if cmd == 'cd':\n",
    "                path = args[0]\n",
    "                if path == '/':\n",
    "                    cur_dir = path\n",
    "                else:\n",
    "                    cur_dir = os.path.normpath(os.path.join(cur_dir, path))\n",
    "                if cur_dir not in dirs:\n",
    "                    dirs[cur_dir] = 0\n",
    "                    sub_dirs[cur_dir] = []\n",
    "        else:\n",
    "            size, fname = row.split()\n",
    "            if size == 'dir':\n",
    "                sub_dirs[cur_dir].append(os.path.normpath(os.path.join(cur_dir, fname)))\n",
    "            else:\n",
    "                dirs[cur_dir] += int(size)\n",
    "    return dirs, sub_dirs"
   ]
  },
  {
   "cell_type": "code",
   "execution_count": 52,
   "metadata": {},
   "outputs": [],
   "source": [
    "dirs, sub_dirs = parse_input(input)"
   ]
  },
  {
   "cell_type": "code",
   "execution_count": 53,
   "metadata": {},
   "outputs": [],
   "source": [
    "def get_dir_size(dir_name:str, dirs:dict, sub_dirs:dict) -> int:\n",
    "    dir_size = dirs[dir_name]\n",
    "    for d in sub_dirs[dir_name]:\n",
    "        if d in dirs:\n",
    "            dir_size += get_dir_size(d, dirs, sub_dirs) # recursive with default case if list sub_dirs is empty\n",
    "    return dir_size"
   ]
  },
  {
   "cell_type": "code",
   "execution_count": 58,
   "metadata": {},
   "outputs": [
    {
     "name": "stdout",
     "output_type": "stream",
     "text": [
      "Answer part I: 1432936\n"
     ]
    }
   ],
   "source": [
    "dirs, sub_dirs = parse_input(input)\n",
    "# part 1\n",
    "totsize = 0\n",
    "for d in dirs:\n",
    "    dsize = get_dir_size(d, dirs, sub_dirs)\n",
    "    if dsize <= 100000:\n",
    "        totsize += dsize\n",
    "print('Answer part I:', totsize)"
   ]
  },
  {
   "cell_type": "code",
   "execution_count": 59,
   "metadata": {},
   "outputs": [
    {
     "name": "stdout",
     "output_type": "stream",
     "text": [
      "Answer part II: 272298\n"
     ]
    }
   ],
   "source": [
    "# Part II\n",
    "dirs, sub_dirs = parse_input(input)\n",
    "dir_sizes = []\n",
    "used_dir_space = get_dir_size('/', dirs, sub_dirs)\n",
    "unused_dir_space = 70000000 - used_dir_space\n",
    "required_disc_space = 30000000 - unused_dir_space\n",
    "for dir_name in dirs:\n",
    "    dir_size = get_dir_size(dir_name, dirs, sub_dirs)\n",
    "    if dir_size >= required_disc_space:\n",
    "        dir_sizes.append(dir_size)\n",
    "dir_sizes.sort()\n",
    "\n",
    "print('Answer part II:', dir_sizes[0])"
   ]
  }
 ],
 "metadata": {
  "kernelspec": {
   "display_name": "Python 3.8.10 64-bit",
   "language": "python",
   "name": "python3"
  },
  "language_info": {
   "codemirror_mode": {
    "name": "ipython",
    "version": 3
   },
   "file_extension": ".py",
   "mimetype": "text/x-python",
   "name": "python",
   "nbconvert_exporter": "python",
   "pygments_lexer": "ipython3",
   "version": "3.8.10"
  },
  "orig_nbformat": 4,
  "vscode": {
   "interpreter": {
    "hash": "916dbcbb3f70747c44a77c7bcd40155683ae19c65e1c03b4aa3499c5328201f1"
   }
  }
 },
 "nbformat": 4,
 "nbformat_minor": 2
}
