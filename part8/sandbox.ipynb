{
 "cells": [
  {
   "cell_type": "code",
   "execution_count": 1,
   "metadata": {},
   "outputs": [],
   "source": [
    "from typing import List"
   ]
  },
  {
   "cell_type": "code",
   "execution_count": 89,
   "metadata": {},
   "outputs": [],
   "source": [
    "filename = 'input.txt'\n",
    "\n",
    "with open(filename, \"r\") as f:\n",
    "    input = f.readlines()"
   ]
  },
  {
   "cell_type": "code",
   "execution_count": 71,
   "metadata": {},
   "outputs": [],
   "source": [
    "#print(input)"
   ]
  },
  {
   "cell_type": "code",
   "execution_count": 45,
   "metadata": {},
   "outputs": [],
   "source": [
    "def check_left_trees(input_row, cur_col_idx: int) -> bool:\n",
    "    conv_input_row = [int(val) for val in input_row]\n",
    "    #print('left_range', list(range(cur_col_idx)), 'current_val', input_row[cur_col_idx])\n",
    "    for left_idx in range(cur_col_idx):\n",
    "        if conv_input_row[left_idx] >= conv_input_row[cur_col_idx]:\n",
    "            return False\n",
    "        #else:\n",
    "            #print(f'{conv_input_row[left_idx]} smaller than {conv_input_row[cur_col_idx]}')\n",
    "    return True\n",
    "\n",
    "def check_right_trees(input_row, cur_col_idx: int) -> bool:\n",
    "    conv_input_row = [int(val) for val in input_row]\n",
    "    #print('right_range', list(range(cur_col_idx+1, len(input_row))), 'current_val', conv_input_row[cur_col_idx])\n",
    "    for right_idx in range(cur_col_idx+1, len(input_row)):\n",
    "        if conv_input_row[right_idx] >= conv_input_row[cur_col_idx]:\n",
    "            return False\n",
    "        #else:\n",
    "        #    print(f'{conv_input_row[right_idx]} smaller than {conv_input_row[cur_col_idx]}')\n",
    "    return True\n",
    "\n",
    "def check_top_trees(input_col, cur_row_idx:int) -> bool:\n",
    "    conv_input_col = [int(val) for val in input_col]\n",
    "    for top_idx in range(cur_row_idx):\n",
    "        if conv_input_col[top_idx] >= conv_input_col[cur_row_idx]:\n",
    "            return False\n",
    "    return True\n",
    "\n",
    "def check_bottom_trees(input_col, cur_row_idx:int) -> bool:\n",
    "    conv_input_col = [int(val) for val in input_col]\n",
    "    for bottom_idx in range(cur_row_idx+1, len(input_col)):\n",
    "        if conv_input_col[bottom_idx] >= conv_input_col[cur_row_idx]:\n",
    "            return False\n",
    "    return True\n"
   ]
  },
  {
   "cell_type": "code",
   "execution_count": 46,
   "metadata": {},
   "outputs": [
    {
     "name": "stdout",
     "output_type": "stream",
     "text": [
      "1676\n"
     ]
    }
   ],
   "source": [
    "visible_counter = 0\n",
    "input = [row.strip() for row in input]\n",
    "row_len = len(input[0])\n",
    "col_len = len(input)\n",
    "col_input = list(zip(*input))\n",
    "\n",
    "tree_counter = 0\n",
    "\n",
    "for row_idx in range(1,row_len-1):\n",
    "    for col_idx in range(1, col_len-1):\n",
    "        cur_tree = input[row_idx][col_idx]\n",
    "\n",
    "        # check left\n",
    "        if check_left_trees(input[row_idx], col_idx):\n",
    "            visible_counter += 1\n",
    "        elif check_right_trees(input[row_idx], col_idx):\n",
    "            visible_counter += 1\n",
    "        elif check_top_trees(col_input[col_idx], row_idx):\n",
    "            visible_counter += 1\n",
    "        elif check_bottom_trees(col_input[col_idx], row_idx):\n",
    "            visible_counter += 1\n",
    "        tree_counter += 1\n",
    "\n",
    "# edge cases\n",
    "visible_counter += 2 * row_len\n",
    "visible_counter += 2* col_len - 4\n",
    "print(visible_counter)\n"
   ]
  },
  {
   "cell_type": "code",
   "execution_count": 36,
   "metadata": {},
   "outputs": [
    {
     "data": {
      "text/plain": [
       "9"
      ]
     },
     "execution_count": 36,
     "metadata": {},
     "output_type": "execute_result"
    }
   ],
   "source": [
    "tree_counter"
   ]
  },
  {
   "cell_type": "code",
   "execution_count": 20,
   "metadata": {},
   "outputs": [
    {
     "data": {
      "text/plain": [
       "[1, 2, 3, 4]"
      ]
     },
     "execution_count": 20,
     "metadata": {},
     "output_type": "execute_result"
    }
   ],
   "source": [
    "list(range(1, 5))"
   ]
  },
  {
   "cell_type": "code",
   "execution_count": 90,
   "metadata": {},
   "outputs": [],
   "source": [
    "def left_score(input_row, cur_col_idx: int) -> int:\n",
    "    conv_input_row = [int(val) for val in input_row]\n",
    "    search_range = list(range(cur_col_idx))\n",
    "    search_range.reverse()\n",
    "    score = 0\n",
    "    for left_idx in search_range:\n",
    "        if conv_input_row[left_idx] < conv_input_row[cur_col_idx]:\n",
    "            score += 1\n",
    "        else:\n",
    "            score+=1\n",
    "            break\n",
    "    return score\n",
    "\n",
    "def right_score(input_row, cur_col_idx: int) -> int:\n",
    "    conv_input_row = [int(val) for val in input_row]\n",
    "    search_range = list(range(cur_col_idx+1, len(input_row))) # Note: not reversed\n",
    "    score = 0\n",
    "    #print(search_range)\n",
    "    for right_idx in search_range:\n",
    "        if conv_input_row[right_idx] < conv_input_row[cur_col_idx]:\n",
    "            score += 1\n",
    "        else:\n",
    "            score+=1\n",
    "            break\n",
    "    return score\n",
    "\n",
    "def top_score(input_col, cur_row_idx:int) -> int:\n",
    "    conv_input_col = [int(val) for val in input_col]\n",
    "    search_range = list(range(cur_row_idx))\n",
    "    search_range.reverse()\n",
    "    score = 0\n",
    "\n",
    "    for top_idx in search_range:\n",
    "        if conv_input_col[top_idx] < conv_input_col[cur_row_idx]:\n",
    "            score +=1\n",
    "        else:\n",
    "            score +=1\n",
    "            break\n",
    "    return score\n",
    "\n",
    "def bottom_score(input_col, cur_row_idx:int) -> int:\n",
    "    conv_input_col = [int(val) for val in input_col]\n",
    "    search_range = list(range(cur_row_idx+1, len(input_col)))\n",
    "    score = 0\n",
    "\n",
    "    for bottom_idx in search_range:\n",
    "        if conv_input_col[bottom_idx] < conv_input_col[cur_row_idx]:\n",
    "            score += 1\n",
    "        else:\n",
    "            score+=1\n",
    "            break\n",
    "    return score\n",
    "\n"
   ]
  },
  {
   "cell_type": "code",
   "execution_count": 91,
   "metadata": {},
   "outputs": [
    {
     "name": "stdout",
     "output_type": "stream",
     "text": [
      "max_idx (1, 1) val: 7\n",
      "max_idx (1, 2) val: 24\n",
      "max_idx (1, 8) val: 48\n",
      "max_idx (1, 13) val: 50\n",
      "max_idx (1, 18) val: 110\n",
      "max_idx (1, 32) val: 192\n",
      "max_idx (1, 51) val: 270\n",
      "max_idx (1, 62) val: 648\n",
      "max_idx (2, 47) val: 1694\n",
      "max_idx (2, 63) val: 4284\n",
      "max_idx (6, 13) val: 7020\n",
      "max_idx (6, 30) val: 30780\n",
      "max_idx (21, 21) val: 58212\n",
      "max_idx (25, 60) val: 83600\n",
      "max_idx (25, 85) val: 105300\n",
      "max_idx (37, 91) val: 157990\n",
      "max_idx (58, 15) val: 313200\n",
      "313200\n"
     ]
    }
   ],
   "source": [
    "# Part II\n",
    "\n",
    "input = [row.strip() for row in input]\n",
    "row_len = len(input[0])\n",
    "col_len = len(input)\n",
    "col_input = list(zip(*input))\n",
    "\n",
    "max_score = 0\n",
    "\n",
    "for row_idx in range(1,row_len-1):\n",
    "    for col_idx in range(1, col_len-1):\n",
    "        cur_tree = input[row_idx][col_idx]\n",
    "        cur_tree_score = left_score(input[row_idx], col_idx) * right_score(input[row_idx], col_idx) * top_score(col_input[col_idx], row_idx) * bottom_score(col_input[col_idx], row_idx)\n",
    "        if cur_tree_score > max_score:\n",
    "            max_score = cur_tree_score\n",
    "            print('max_idx', (row_idx, col_idx), 'val:', max_score)\n",
    "\n",
    "print(max_score)\n",
    "\n"
   ]
  },
  {
   "cell_type": "code",
   "execution_count": 88,
   "metadata": {},
   "outputs": [
    {
     "name": "stdout",
     "output_type": "stream",
     "text": [
      "1\n",
      "3\n",
      "1\n",
      "2\n"
     ]
    }
   ],
   "source": [
    "print(left_score(input[2], 1))\n",
    "print(right_score(input[2], 1))\n",
    "print(top_score(col_input[1], 2))\n",
    "print(bottom_score(col_input[1], 2))"
   ]
  },
  {
   "cell_type": "code",
   "execution_count": null,
   "metadata": {},
   "outputs": [],
   "source": []
  }
 ],
 "metadata": {
  "kernelspec": {
   "display_name": "Python 3.8.10 64-bit",
   "language": "python",
   "name": "python3"
  },
  "language_info": {
   "codemirror_mode": {
    "name": "ipython",
    "version": 3
   },
   "file_extension": ".py",
   "mimetype": "text/x-python",
   "name": "python",
   "nbconvert_exporter": "python",
   "pygments_lexer": "ipython3",
   "version": "3.8.10"
  },
  "orig_nbformat": 4,
  "vscode": {
   "interpreter": {
    "hash": "916dbcbb3f70747c44a77c7bcd40155683ae19c65e1c03b4aa3499c5328201f1"
   }
  }
 },
 "nbformat": 4,
 "nbformat_minor": 2
}
