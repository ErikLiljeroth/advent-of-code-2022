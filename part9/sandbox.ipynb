{
 "cells": [
  {
   "cell_type": "code",
   "execution_count": 2,
   "metadata": {},
   "outputs": [],
   "source": [
    "from typing import List, Tuple"
   ]
  },
  {
   "cell_type": "code",
   "execution_count": 9,
   "metadata": {},
   "outputs": [],
   "source": [
    "filename = 'input.txt'\n",
    "\n",
    "with open(filename, \"r\") as f:\n",
    "    input = f.readlines()"
   ]
  },
  {
   "cell_type": "code",
   "execution_count": 4,
   "metadata": {},
   "outputs": [
    {
     "data": {
      "text/plain": [
       "['R 4\\n', 'U 4\\n', 'L 3\\n', 'D 1\\n', 'R 4\\n', 'D 1\\n', 'L 5\\n', 'R 2']"
      ]
     },
     "execution_count": 4,
     "metadata": {},
     "output_type": "execute_result"
    }
   ],
   "source": [
    "input"
   ]
  },
  {
   "cell_type": "code",
   "execution_count": null,
   "metadata": {},
   "outputs": [],
   "source": [
    "# ......\n",
    "# ......\n",
    "# ......\n",
    "# ......\n",
    "# H....."
   ]
  },
  {
   "cell_type": "code",
   "execution_count": 42,
   "metadata": {},
   "outputs": [],
   "source": [
    "class Rope_Simulation():\n",
    "\n",
    "    def __init__(self) -> None:\n",
    "        self.h_pos = [0,0]\n",
    "        self.t_pos = [0,0]\n",
    "        self.t_positions = []\n",
    "        self.t_positions.append(tuple(self.t_pos))\n",
    "\n",
    "    def move_right(self, nbr_steps):\n",
    "        for i in range(nbr_steps):\n",
    "            self.h_pos[0] += 1\n",
    "\n",
    "            if abs(self.h_pos[0] - self.t_pos[0]) == 2 and self.h_pos[1] == self.t_pos[1]:\n",
    "                self.t_pos[0] += 1\n",
    "            elif abs(self.h_pos[0] - self.t_pos[0]) == 2:\n",
    "                self.t_pos[0] += 1\n",
    "                self.t_pos[1] = self.h_pos[1]\n",
    "            #self.print_positions()\n",
    "            if tuple(self.t_pos) not in self.t_positions:\n",
    "                self.t_positions.append(tuple(self.t_pos))\n",
    "\n",
    "    def move_left(self, nbr_steps):\n",
    "        for i in range(nbr_steps):\n",
    "            self.h_pos[0] -= 1\n",
    "\n",
    "            if abs(self.h_pos[0] - self.t_pos[0]) == 2 and self.h_pos[1] == self.t_pos[1]:\n",
    "                self.t_pos[0] -= 1\n",
    "            elif abs(self.h_pos[0] - self.t_pos[0]) == 2:\n",
    "                self.t_pos[0] -= 1\n",
    "                self.t_pos[1] = self.h_pos[1]\n",
    "            #self.print_positions()\n",
    "            if tuple(self.t_pos) not in self.t_positions:\n",
    "                self.t_positions.append(tuple(self.t_pos))\n",
    "\n",
    "    def move_up(self, nbr_steps):\n",
    "        for i in range(nbr_steps):\n",
    "            self.h_pos[1] += 1\n",
    "\n",
    "            if abs(self.h_pos[1] - self.t_pos[1]) == 2 and self.h_pos[0] == self.t_pos[0]:\n",
    "                self.t_pos[1] += 1\n",
    "            elif abs(self.h_pos[1] - self.t_pos[1]) == 2:\n",
    "                self.t_pos[1] += 1\n",
    "                self.t_pos[0] = self.h_pos[0]\n",
    "            #self.print_positions()\n",
    "            if tuple(self.t_pos) not in self.t_positions:\n",
    "                self.t_positions.append(tuple(self.t_pos))\n",
    "\n",
    "    def move_down(self, nbr_steps):\n",
    "        for i in range(nbr_steps):\n",
    "            self.h_pos[1] -= 1\n",
    "\n",
    "            if abs(self.h_pos[1] - self.t_pos[1]) == 2 and self.h_pos[0] == self.t_pos[0]:\n",
    "                self.t_pos[1] -= 1\n",
    "            elif abs(self.h_pos[1] - self.t_pos[1]) == 2:\n",
    "                self.t_pos[1] -= 1\n",
    "                self.t_pos[0] = self.h_pos[0]\n",
    "            #self.print_positions()\n",
    "            if tuple(self.t_pos) not in self.t_positions:\n",
    "                self.t_positions.append(tuple(self.t_pos))\n",
    "\n",
    "    def print_board(self):\n",
    "        NotImplemented\n",
    "\n",
    "    def print_positions(self):\n",
    "        print('h_pos:', self.h_pos, 't_pos:', self.t_pos)\n",
    "\n",
    "    def get_tail_positions(self):\n",
    "        return self.t_positions\n",
    "\n"
   ]
  },
  {
   "cell_type": "code",
   "execution_count": 45,
   "metadata": {},
   "outputs": [
    {
     "name": "stdout",
     "output_type": "stream",
     "text": [
      "5735\n"
     ]
    }
   ],
   "source": [
    "rsim = Rope_Simulation()\n",
    "\n",
    "for line in input:\n",
    "    dir, nbr_steps = line.strip().split()\n",
    "    nbr_steps = int(nbr_steps)\n",
    "    if dir == 'R':\n",
    "        rsim.move_right(nbr_steps)\n",
    "    elif dir == 'L':\n",
    "        rsim.move_left(nbr_steps)\n",
    "    elif dir == 'U':\n",
    "        rsim.move_up(nbr_steps)\n",
    "    elif dir == 'D':rsim.move_down(nbr_steps)\n",
    "    else:\n",
    "        pass\n",
    "\n",
    "print(len(rsim.get_tail_positions()))\n"
   ]
  },
  {
   "cell_type": "code",
   "execution_count": 35,
   "metadata": {},
   "outputs": [
    {
     "data": {
      "text/plain": [
       "[(0, 0), (1, 0), (2, 0), (3, 0), [4, 3], (4, 3)]"
      ]
     },
     "execution_count": 35,
     "metadata": {},
     "output_type": "execute_result"
    }
   ],
   "source": [
    "rsim.get_tail_positions()"
   ]
  },
  {
   "cell_type": "code",
   "execution_count": 29,
   "metadata": {},
   "outputs": [
    {
     "data": {
      "text/plain": [
       "[4, 3]"
      ]
     },
     "execution_count": 29,
     "metadata": {},
     "output_type": "execute_result"
    }
   ],
   "source": [
    "# Part II"
   ]
  },
  {
   "cell_type": "code",
   "execution_count": 5,
   "metadata": {},
   "outputs": [],
   "source": [
    "class Knot():\n",
    "\n",
    "    def __init__(self) -> None:\n",
    "        self.x = 0\n",
    "        self.y = 0\n",
    "\n",
    "    def move_knot(self, new_x, new_y):\n",
    "        self.x = new_x\n",
    "        self.y = new_y\n",
    "\n",
    "    def chain_move_knot(self, lead_x:int, lead_y:int):\n",
    "        x_diff = lead_x - self.x\n",
    "        y_diff = lead_y - self.y\n",
    "        if abs(x_diff) == 2 and abs(y_diff) == 2:\n",
    "            if x_diff > 0 and y_diff > 0:\n",
    "                self.x = lead_x - 1\n",
    "                self.y = lead_y - 1\n",
    "            elif x_diff > 0 and y_diff < 0:\n",
    "                self.x = lead_x - 1\n",
    "                self.y = lead_y + 1\n",
    "            elif x_diff < 0 and y_diff > 0:\n",
    "                self.x = lead_x + 1\n",
    "                self.y = lead_y - 1\n",
    "            else:\n",
    "                self.x = lead_x + 1\n",
    "                self.y = lead_y + 1\n",
    "\n",
    "        elif abs(x_diff) == 2:\n",
    "            self.x = self.x + 1 if x_diff > 0 else self.x - 1\n",
    "            if self.y != lead_y:\n",
    "                self.y = lead_y\n",
    "        elif abs(y_diff) == 2:\n",
    "            self.y = self.y + 1 if y_diff > 0 else self.y - 1\n",
    "            if self.x != lead_x:\n",
    "                self.x = lead_x\n",
    "        else:\n",
    "            return\n",
    "\n",
    "    def get_x(self) -> int:\n",
    "        return self.x\n",
    "\n",
    "    def get_y(self) -> int:\n",
    "        return self.y\n",
    "\n",
    "class KnotTrainSimulation():\n",
    "\n",
    "    def __init__(self, nbr_knots) -> None:\n",
    "        self.train = []\n",
    "        for i in range(nbr_knots):\n",
    "            self.train.append(Knot())\n",
    "        self.t_positions = []\n",
    "        self.t_positions.append((self.train[-1].x, self.train[-1].y))\n",
    "\n",
    "    def _find_initial_step(self, dir) -> Tuple[int]:\n",
    "        output_x = self.train[0].get_x()\n",
    "        output_y = self.train[0].get_y()\n",
    "        if dir == 'R':\n",
    "            output_x += 1\n",
    "        elif dir == 'L':\n",
    "            output_x -= 1\n",
    "        elif dir == 'U':\n",
    "            output_y += 1\n",
    "        else:\n",
    "            output_y -= 1\n",
    "        return (output_x, output_y)\n",
    "\n",
    "\n",
    "    def iterate(self, dir):\n",
    "        new_x, new_y = self._find_initial_step(dir)\n",
    "        self.train[0].move_knot(new_x, new_y)\n",
    "        prev_x, prev_y = new_x, new_y\n",
    "        for idx, knot in enumerate(self.train):\n",
    "            if idx == 0:\n",
    "                pass\n",
    "            else:\n",
    "                knot.chain_move_knot(prev_x, prev_y)\n",
    "                prev_x = knot.x\n",
    "                prev_y = knot.y\n",
    "                if idx == len(self.train) - 1:\n",
    "                    if (knot.x, knot.y) not in self.t_positions:\n",
    "                        self.t_positions.append((knot.x, knot.y))\n",
    "\n",
    "\n"
   ]
  },
  {
   "cell_type": "code",
   "execution_count": 10,
   "metadata": {},
   "outputs": [
    {
     "name": "stdout",
     "output_type": "stream",
     "text": [
      "2478\n"
     ]
    }
   ],
   "source": [
    "sim = KnotTrainSimulation(nbr_knots=10)\n",
    "\n",
    "for line in input:\n",
    "    dir, nbr_steps = line.strip().split()\n",
    "    nbr_steps = int(nbr_steps)\n",
    "    for i in range(nbr_steps):\n",
    "        sim.iterate(dir)\n",
    "\n",
    "print(len(sim.t_positions))\n",
    "\n"
   ]
  },
  {
   "cell_type": "code",
   "execution_count": 11,
   "metadata": {},
   "outputs": [
    {
     "data": {
      "text/plain": [
       "[(0, 0), (-1, 1), (-2, 2), (-3, 3), (-4, 4)]"
      ]
     },
     "execution_count": 11,
     "metadata": {},
     "output_type": "execute_result"
    }
   ],
   "source": [
    "sim.t_positions[:5]"
   ]
  },
  {
   "cell_type": "code",
   "execution_count": null,
   "metadata": {},
   "outputs": [],
   "source": []
  }
 ],
 "metadata": {
  "kernelspec": {
   "display_name": "Python 3.8.10 64-bit",
   "language": "python",
   "name": "python3"
  },
  "language_info": {
   "codemirror_mode": {
    "name": "ipython",
    "version": 3
   },
   "file_extension": ".py",
   "mimetype": "text/x-python",
   "name": "python",
   "nbconvert_exporter": "python",
   "pygments_lexer": "ipython3",
   "version": "3.8.10"
  },
  "orig_nbformat": 4,
  "vscode": {
   "interpreter": {
    "hash": "916dbcbb3f70747c44a77c7bcd40155683ae19c65e1c03b4aa3499c5328201f1"
   }
  }
 },
 "nbformat": 4,
 "nbformat_minor": 2
}
